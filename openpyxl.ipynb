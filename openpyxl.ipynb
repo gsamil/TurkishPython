{
 "cells": [
  {
   "cell_type": "markdown",
   "metadata": {},
   "source": [
    "***\n",
    "# openpyxl\n",
    "***\n",
    "Excel 2010 xlsx/xlsm dosyalarını okumak için bir Python kütüphanesidir. [1]\n",
    "***"
   ]
  },
  {
   "cell_type": "markdown",
   "metadata": {},
   "source": [
    "#### Excel worksheet oluştur"
   ]
  },
  {
   "cell_type": "code",
   "execution_count": 11,
   "metadata": {},
   "outputs": [],
   "source": [
    "from openpyxl import Workbook\n",
    "import datetime\n",
    "\n",
    "wb = Workbook()\n",
    "\n",
    "# aktif worksheet'i seç\n",
    "ws = wb.active\n",
    "\n",
    "# başlığı değiştir\n",
    "ws.title = \"Sheet1\"\n",
    "\n",
    "# hücrelere direk olarak değer atanabilir\n",
    "ws['A1'] = 42\n",
    "\n",
    "# değerler satır olarak da eklenebilir\n",
    "ws.append([1, 2, 3])\n",
    "\n",
    "# Python tipleri otomatik olarak dönüştürülür\n",
    "ws['A2'] = datetime.datetime.now()"
   ]
  },
  {
   "cell_type": "markdown",
   "metadata": {},
   "source": [
    "#### 2. satırdaki değerleri yatay olarak yaz\n",
    "\n",
    "- Aşağıdan yukarı : 90\n",
    "- Yukarıdan aşağı : 180"
   ]
  },
  {
   "cell_type": "code",
   "execution_count": 12,
   "metadata": {},
   "outputs": [],
   "source": [
    "from openpyxl.styles import Alignment\n",
    "\n",
    "\n",
    "for c in ws[2]:\n",
    "    c.alignment = Alignment(textRotation=90)"
   ]
  },
  {
   "cell_type": "markdown",
   "metadata": {},
   "source": [
    "#### Hücre elemanlarını iterate et, arkaplan rengi ver\n",
    "\n",
    "`ws[1]` ilk satırı temsil ediyor. `ws[0]` yok."
   ]
  },
  {
   "cell_type": "code",
   "execution_count": 13,
   "metadata": {},
   "outputs": [],
   "source": [
    "from openpyxl.styles import PatternFill\n",
    "\n",
    "\n",
    "for i, row in enumerate(ws):\n",
    "    for j, c in enumerate(row):\n",
    "        first_value_in_row = row[0].value\n",
    "        c.fill = PatternFill(fgColor=\"CEFFC7\", fill_type=\"solid\")"
   ]
  },
  {
   "cell_type": "markdown",
   "metadata": {},
   "source": [
    "#### İkinci bir sayfaya yaz"
   ]
  },
  {
   "cell_type": "code",
   "execution_count": 14,
   "metadata": {},
   "outputs": [],
   "source": [
    "rows = [[1,2,3],[4,5,6]]\n",
    "ws1 = wb.create_sheet(\"2nd page\", 0)  ## <sheet ismi>, <sırası>\n",
    "for row in rows:\n",
    "    ws1.append(row)"
   ]
  },
  {
   "cell_type": "markdown",
   "metadata": {},
   "source": [
    "#### Excel dosyasını kaydet"
   ]
  },
  {
   "cell_type": "code",
   "execution_count": 15,
   "metadata": {},
   "outputs": [],
   "source": [
    "wb.save(\"sample.xlsx\")"
   ]
  },
  {
   "cell_type": "markdown",
   "metadata": {},
   "source": [
    "#### Excel dosyasını yükle"
   ]
  },
  {
   "cell_type": "code",
   "execution_count": null,
   "metadata": {},
   "outputs": [],
   "source": [
    "wb = openpyxl.load_workbook(\"sample.xlsx\")\n",
    "ws_confusions = wb[\"confusions\"]  ## get sheet with name\n",
    "comparisons = ws_confusions.rows  ## this is an iterator\n",
    "values = [[c.value for c in comparison] for comparison in comparisons]  ## get values in the sheet"
   ]
  },
  {
   "cell_type": "markdown",
   "metadata": {},
   "source": [
    "### Referanslar\n",
    "\n",
    "1. [openpyxl - A Python library to read/write Excel 2010 xlsx/xlsm files](https://openpyxl.readthedocs.io/en/stable/#openpyxl-a-python-library-to-read-write-excel-2010-xlsx-xlsm-files)"
   ]
  }
 ],
 "metadata": {
  "kernelspec": {
   "display_name": "Python 3",
   "language": "python",
   "name": "python3"
  },
  "language_info": {
   "codemirror_mode": {
    "name": "ipython",
    "version": 3
   },
   "file_extension": ".py",
   "mimetype": "text/x-python",
   "name": "python",
   "nbconvert_exporter": "python",
   "pygments_lexer": "ipython3",
   "version": "3.7.7"
  }
 },
 "nbformat": 4,
 "nbformat_minor": 4
}
