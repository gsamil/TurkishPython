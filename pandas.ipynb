{
 "cells": [
  {
   "cell_type": "markdown",
   "metadata": {},
   "source": [
    "### Başlangıç olarak!"
   ]
  },
  {
   "cell_type": "code",
   "execution_count": 8,
   "metadata": {},
   "outputs": [],
   "source": [
    "import pandas as pd\n",
    "import numpy as np"
   ]
  },
  {
   "cell_type": "markdown",
   "metadata": {},
   "source": [
    "## Pandas Series\n",
    "İlk olarak bir grup insana ait yaş datasını içeren bir seri datası tanımlıyorum:"
   ]
  },
  {
   "cell_type": "code",
   "execution_count": 2,
   "metadata": {},
   "outputs": [
    {
     "data": {
      "text/plain": [
       "0    25\n",
       "1    16\n",
       "2    34\n",
       "3    30\n",
       "4    42\n",
       "5    52\n",
       "6    12\n",
       "7    21\n",
       "dtype: int64"
      ]
     },
     "execution_count": 2,
     "metadata": {},
     "output_type": "execute_result"
    }
   ],
   "source": [
    "ages = pd.Series([25, 16, 34, 30, 42, 52, 12, 21])\n",
    "ages"
   ]
  },
  {
   "cell_type": "markdown",
   "metadata": {},
   "source": [
    "ages değişkeni print edildiğinde de görülebileceği gibi dataya otomatik olarak index atanıyor. Burada 8 kişinin yaş datası yer aldığı için 0'dan 7'ye kadar index'ler var. \n",
    "Bu indexler kullanılarak datanın elemanlarına ulaşılabilir: "
   ]
  },
  {
   "cell_type": "code",
   "execution_count": 3,
   "metadata": {},
   "outputs": [
    {
     "data": {
      "text/plain": [
       "30"
      ]
     },
     "execution_count": 3,
     "metadata": {},
     "output_type": "execute_result"
    }
   ],
   "source": [
    "ages[3]"
   ]
  },
  {
   "cell_type": "markdown",
   "metadata": {},
   "source": [
    "Datanın index bilgisine ayrıcaşu şekilde ulaşılabilir:"
   ]
  },
  {
   "cell_type": "code",
   "execution_count": 4,
   "metadata": {},
   "outputs": [
    {
     "data": {
      "text/plain": [
       "RangeIndex(start=0, stop=8, step=1)"
      ]
     },
     "execution_count": 4,
     "metadata": {},
     "output_type": "execute_result"
    }
   ],
   "source": [
    "ages.index"
   ]
  },
  {
   "cell_type": "markdown",
   "metadata": {},
   "source": [
    "Burada 0'dan 8'e kadar sayılar dataya index olarak atanıyor. Bu değiştirilebilir. Buradan daanlaşılacağı gibi pandas Seri'leri aslında birer \"sıralı sözlük\" (ordered dictionary)."
   ]
  },
  {
   "cell_type": "code",
   "execution_count": 5,
   "metadata": {},
   "outputs": [
    {
     "data": {
      "text/plain": [
       "Ahmet       25\n",
       "Meral       16\n",
       "Tuğba       34\n",
       "Hakan       30\n",
       "Sıla        42\n",
       "Zeki        52\n",
       "Kemal       12\n",
       "Neslihan    21\n",
       "dtype: int64"
      ]
     },
     "execution_count": 5,
     "metadata": {},
     "output_type": "execute_result"
    }
   ],
   "source": [
    "ages.index = [\"Ahmet\", \"Meral\", \"Tuğba\", \"Hakan\", \"Sıla\", \"Zeki\", \"Kemal\", \"Neslihan\"]\n",
    "ages"
   ]
  },
  {
   "cell_type": "markdown",
   "metadata": {},
   "source": [
    "Sadece datanın kendisinden datanın içeriği anlaşılmadığı için bu datayı tanımlayabiliriz. Bunun önemi DataFrame objelerini tanımlarken anlaşılacak."
   ]
  },
  {
   "cell_type": "code",
   "execution_count": 6,
   "metadata": {},
   "outputs": [
    {
     "data": {
      "text/plain": [
       "Ahmet       25\n",
       "Meral       16\n",
       "Tuğba       34\n",
       "Hakan       30\n",
       "Sıla        42\n",
       "Zeki        52\n",
       "Kemal       12\n",
       "Neslihan    21\n",
       "Name: yaş, dtype: int64"
      ]
     },
     "execution_count": 6,
     "metadata": {},
     "output_type": "execute_result"
    }
   ],
   "source": [
    "ages.name = \"yaş\"\n",
    "ages"
   ]
  },
  {
   "cell_type": "markdown",
   "metadata": {},
   "source": [
    "Datanın elemanlarının tipinin de int64 olduğu ayrıca görülebiliyor. Klasik numpy methodları ile bu seri hakkında daha çok bilgiye ulaşılabilir:"
   ]
  },
  {
   "cell_type": "code",
   "execution_count": 7,
   "metadata": {},
   "outputs": [
    {
     "data": {
      "text/plain": [
       "dtype('int64')"
      ]
     },
     "execution_count": 7,
     "metadata": {},
     "output_type": "execute_result"
    }
   ],
   "source": [
    "ages.dtype"
   ]
  },
  {
   "cell_type": "code",
   "execution_count": 8,
   "metadata": {},
   "outputs": [
    {
     "data": {
      "text/plain": [
       "array([25, 16, 34, 30, 42, 52, 12, 21], dtype=int64)"
      ]
     },
     "execution_count": 8,
     "metadata": {},
     "output_type": "execute_result"
    }
   ],
   "source": [
    "ages.values"
   ]
  },
  {
   "cell_type": "code",
   "execution_count": 9,
   "metadata": {},
   "outputs": [
    {
     "data": {
      "text/plain": [
       "numpy.ndarray"
      ]
     },
     "execution_count": 9,
     "metadata": {},
     "output_type": "execute_result"
    }
   ],
   "source": [
    "type(ages.values)"
   ]
  },
  {
   "cell_type": "markdown",
   "metadata": {},
   "source": [
    "Aynı seri'yi farklı yollarla tanımlayabiliriz."
   ]
  },
  {
   "cell_type": "code",
   "execution_count": 10,
   "metadata": {},
   "outputs": [
    {
     "data": {
      "text/plain": [
       "Ahmet       25\n",
       "Meral       16\n",
       "Tuğba       24\n",
       "Hakan       30\n",
       "Sıla        42\n",
       "Zeki        52\n",
       "Kemal       12\n",
       "Neslihan    21\n",
       "dtype: int64"
      ]
     },
     "execution_count": 10,
     "metadata": {},
     "output_type": "execute_result"
    }
   ],
   "source": [
    "pd.Series({\n",
    "    \"Ahmet\" : 25, \n",
    "    \"Meral\" : 16, \n",
    "    \"Tuğba\" : 24, \n",
    "    \"Hakan\" : 30, \n",
    "    \"Sıla\" : 42, \n",
    "    \"Zeki\" : 52, \n",
    "    \"Kemal\" : 12, \n",
    "    \"Neslihan\" : 21\n",
    "})"
   ]
  },
  {
   "cell_type": "code",
   "execution_count": 11,
   "metadata": {},
   "outputs": [
    {
     "data": {
      "text/plain": [
       "Ahmet       25\n",
       "Meral       16\n",
       "Tuğba       34\n",
       "Hakan       30\n",
       "Sıla        42\n",
       "Zeki        52\n",
       "Kemal       12\n",
       "Neslihan    21\n",
       "Name: yaş, dtype: int64"
      ]
     },
     "execution_count": 11,
     "metadata": {},
     "output_type": "execute_result"
    }
   ],
   "source": [
    "pd.Series(\n",
    "    [25, 16, 34, 30, 42, 52, 12, 21],\n",
    "    index=[\"Ahmet\", \"Meral\", \"Tuğba\", \"Hakan\", \"Sıla\", \"Zeki\", \"Kemal\", \"Neslihan\"],\n",
    "    name='yaş')"
   ]
  },
  {
   "cell_type": "markdown",
   "metadata": {},
   "source": [
    "Index'ler belirtilerek serilerden yeni seriler tanımlanabilir:"
   ]
  },
  {
   "cell_type": "code",
   "execution_count": 12,
   "metadata": {},
   "outputs": [
    {
     "data": {
      "text/plain": [
       "Ahmet    25.0\n",
       "Meral    16.0\n",
       "Hakan    30.0\n",
       "Emir      NaN\n",
       "Name: yaş, dtype: float64"
      ]
     },
     "execution_count": 12,
     "metadata": {},
     "output_type": "execute_result"
    }
   ],
   "source": [
    "pd.Series(ages, index=[\"Ahmet\", \"Meral\", \"Hakan\", \"Emir\"])"
   ]
  },
  {
   "cell_type": "markdown",
   "metadata": {},
   "source": [
    "### Index'ler\n",
    "Seri datasının index'lerinin değiştirilebileceğinden bahsetmiştim. Index değiştirilse bile sayı konumuna halen ulaşılabilir: "
   ]
  },
  {
   "cell_type": "code",
   "execution_count": 13,
   "metadata": {},
   "outputs": [
    {
     "data": {
      "text/plain": [
       "25"
      ]
     },
     "execution_count": 13,
     "metadata": {},
     "output_type": "execute_result"
    }
   ],
   "source": [
    "ages.iloc[0]"
   ]
  },
  {
   "cell_type": "markdown",
   "metadata": {},
   "source": [
    "Birden fazla eleman birlikte seçilebilir:"
   ]
  },
  {
   "cell_type": "code",
   "execution_count": 14,
   "metadata": {},
   "outputs": [
    {
     "data": {
      "text/plain": [
       "Meral    16\n",
       "Hakan    30\n",
       "Name: yaş, dtype: int64"
      ]
     },
     "execution_count": 14,
     "metadata": {},
     "output_type": "execute_result"
    }
   ],
   "source": [
    "ages[[\"Meral\", \"Hakan\"]]"
   ]
  },
  {
   "cell_type": "code",
   "execution_count": 15,
   "metadata": {},
   "outputs": [
    {
     "data": {
      "text/plain": [
       "Ahmet    25\n",
       "Meral    16\n",
       "Name: yaş, dtype: int64"
      ]
     },
     "execution_count": 15,
     "metadata": {},
     "output_type": "execute_result"
    }
   ],
   "source": [
    "ages.iloc[[0, 1]]"
   ]
  },
  {
   "cell_type": "markdown",
   "metadata": {},
   "source": [
    "**Dikkat!** İndex range seçilmesi durumunda numpy array'den farklı olarak son eleman da dahil ediliyor."
   ]
  },
  {
   "cell_type": "code",
   "execution_count": 16,
   "metadata": {},
   "outputs": [
    {
     "data": {
      "text/plain": [
       "Ahmet    25\n",
       "Meral    16\n",
       "Tuğba    34\n",
       "Hakan    30\n",
       "Name: yaş, dtype: int64"
      ]
     },
     "execution_count": 16,
     "metadata": {},
     "output_type": "execute_result"
    }
   ],
   "source": [
    "ages[\"Ahmet\" : \"Hakan\"]"
   ]
  },
  {
   "cell_type": "markdown",
   "metadata": {},
   "source": [
    "iloc numpy array ile aynı çalışıyor "
   ]
  },
  {
   "cell_type": "code",
   "execution_count": 17,
   "metadata": {},
   "outputs": [
    {
     "data": {
      "text/plain": [
       "Ahmet    25\n",
       "Meral    16\n",
       "Tuğba    34\n",
       "Name: yaş, dtype: int64"
      ]
     },
     "execution_count": 17,
     "metadata": {},
     "output_type": "execute_result"
    }
   ],
   "source": [
    "ages.iloc[0:3]"
   ]
  },
  {
   "cell_type": "markdown",
   "metadata": {},
   "source": [
    "### Boolean seri'yle şartlı indexleme"
   ]
  },
  {
   "cell_type": "code",
   "execution_count": 18,
   "metadata": {},
   "outputs": [
    {
     "data": {
      "text/plain": [
       "Ahmet       False\n",
       "Meral       False\n",
       "Tuğba        True\n",
       "Hakan       False\n",
       "Sıla         True\n",
       "Zeki         True\n",
       "Kemal       False\n",
       "Neslihan    False\n",
       "Name: yaş, dtype: bool"
      ]
     },
     "execution_count": 18,
     "metadata": {},
     "output_type": "execute_result"
    }
   ],
   "source": [
    "ages > 30"
   ]
  },
  {
   "cell_type": "code",
   "execution_count": 19,
   "metadata": {},
   "outputs": [
    {
     "data": {
      "text/plain": [
       "Tuğba    34\n",
       "Sıla     42\n",
       "Zeki     52\n",
       "Name: yaş, dtype: int64"
      ]
     },
     "execution_count": 19,
     "metadata": {},
     "output_type": "execute_result"
    }
   ],
   "source": [
    "ages[ages > 30]"
   ]
  },
  {
   "cell_type": "markdown",
   "metadata": {},
   "source": [
    "| or  \n",
    "& and  \n",
    "~ not"
   ]
  },
  {
   "cell_type": "code",
   "execution_count": 20,
   "metadata": {},
   "outputs": [
    {
     "data": {
      "text/plain": [
       "Meral    16\n",
       "Zeki     52\n",
       "Kemal    12\n",
       "Name: yaş, dtype: int64"
      ]
     },
     "execution_count": 20,
     "metadata": {},
     "output_type": "execute_result"
    }
   ],
   "source": [
    "ages[(ages < 20) | (ages > 50)]"
   ]
  },
  {
   "cell_type": "markdown",
   "metadata": {},
   "source": [
    "### Matematiksel operasyonlar"
   ]
  },
  {
   "cell_type": "code",
   "execution_count": 21,
   "metadata": {},
   "outputs": [
    {
     "data": {
      "text/plain": [
       "29.0"
      ]
     },
     "execution_count": 21,
     "metadata": {},
     "output_type": "execute_result"
    }
   ],
   "source": [
    "ages.mean()"
   ]
  },
  {
   "cell_type": "code",
   "execution_count": 22,
   "metadata": {},
   "outputs": [
    {
     "data": {
      "text/plain": [
       "13.427051585724778"
      ]
     },
     "execution_count": 22,
     "metadata": {},
     "output_type": "execute_result"
    }
   ],
   "source": [
    "ages.std()"
   ]
  },
  {
   "cell_type": "code",
   "execution_count": 23,
   "metadata": {},
   "outputs": [
    {
     "data": {
      "text/plain": [
       "Ahmet       250000\n",
       "Meral       160000\n",
       "Tuğba       340000\n",
       "Hakan       300000\n",
       "Sıla        420000\n",
       "Zeki        520000\n",
       "Kemal       120000\n",
       "Neslihan    210000\n",
       "Name: yaş, dtype: int64"
      ]
     },
     "execution_count": 23,
     "metadata": {},
     "output_type": "execute_result"
    }
   ],
   "source": [
    "ages * 10000"
   ]
  },
  {
   "cell_type": "code",
   "execution_count": 24,
   "metadata": {},
   "outputs": [
    {
     "data": {
      "text/plain": [
       "Ahmet       3.218876\n",
       "Meral       2.772589\n",
       "Tuğba       3.526361\n",
       "Hakan       3.401197\n",
       "Sıla        3.737670\n",
       "Zeki        3.951244\n",
       "Kemal       2.484907\n",
       "Neslihan    3.044522\n",
       "Name: yaş, dtype: float64"
      ]
     },
     "execution_count": 24,
     "metadata": {},
     "output_type": "execute_result"
    }
   ],
   "source": [
    "np.log(ages)"
   ]
  },
  {
   "cell_type": "code",
   "execution_count": 25,
   "metadata": {},
   "outputs": [
    {
     "data": {
      "text/plain": [
       "26.25"
      ]
     },
     "execution_count": 25,
     "metadata": {},
     "output_type": "execute_result"
    }
   ],
   "source": [
    "ages[\"Ahmet\" : \"Hakan\"].mean()"
   ]
  },
  {
   "cell_type": "markdown",
   "metadata": {},
   "source": [
    "### Seri elemanlarını güncelle"
   ]
  },
  {
   "cell_type": "code",
   "execution_count": 26,
   "metadata": {},
   "outputs": [],
   "source": [
    "ages[\"Ahmet\"] = 10"
   ]
  },
  {
   "cell_type": "code",
   "execution_count": 27,
   "metadata": {},
   "outputs": [],
   "source": [
    "ages.iloc[-1] = 10"
   ]
  },
  {
   "cell_type": "code",
   "execution_count": 28,
   "metadata": {},
   "outputs": [],
   "source": [
    "ages[ages < 20] = 21"
   ]
  },
  {
   "cell_type": "markdown",
   "metadata": {},
   "source": [
    "## Pandas DataFrames\n",
    "DataFrame object de Seri'ye çok benzer bir yolla tanımlanabilir."
   ]
  },
  {
   "cell_type": "code",
   "execution_count": 103,
   "metadata": {},
   "outputs": [
    {
     "data": {
      "text/html": [
       "<div>\n",
       "<style scoped>\n",
       "    .dataframe tbody tr th:only-of-type {\n",
       "        vertical-align: middle;\n",
       "    }\n",
       "\n",
       "    .dataframe tbody tr th {\n",
       "        vertical-align: top;\n",
       "    }\n",
       "\n",
       "    .dataframe thead th {\n",
       "        text-align: right;\n",
       "    }\n",
       "</style>\n",
       "<table border=\"1\" class=\"dataframe\">\n",
       "  <thead>\n",
       "    <tr style=\"text-align: right;\">\n",
       "      <th></th>\n",
       "      <th>Nüfus</th>\n",
       "      <th>GDP</th>\n",
       "      <th>Alan</th>\n",
       "      <th>Kıta</th>\n",
       "    </tr>\n",
       "  </thead>\n",
       "  <tbody>\n",
       "    <tr>\n",
       "      <th>0</th>\n",
       "      <td>222320</td>\n",
       "      <td>60000</td>\n",
       "      <td>120</td>\n",
       "      <td>Avrupa</td>\n",
       "    </tr>\n",
       "    <tr>\n",
       "      <th>1</th>\n",
       "      <td>430500</td>\n",
       "      <td>45000</td>\n",
       "      <td>60</td>\n",
       "      <td>Asya</td>\n",
       "    </tr>\n",
       "    <tr>\n",
       "      <th>2</th>\n",
       "      <td>180000</td>\n",
       "      <td>30000</td>\n",
       "      <td>70</td>\n",
       "      <td>Avrupa</td>\n",
       "    </tr>\n",
       "    <tr>\n",
       "      <th>3</th>\n",
       "      <td>310000</td>\n",
       "      <td>40000</td>\n",
       "      <td>250</td>\n",
       "      <td>Amerika</td>\n",
       "    </tr>\n",
       "    <tr>\n",
       "      <th>4</th>\n",
       "      <td>90200</td>\n",
       "      <td>70000</td>\n",
       "      <td>130</td>\n",
       "      <td>Avrupa</td>\n",
       "    </tr>\n",
       "    <tr>\n",
       "      <th>5</th>\n",
       "      <td>180200</td>\n",
       "      <td>55000</td>\n",
       "      <td>300</td>\n",
       "      <td>Avrupa</td>\n",
       "    </tr>\n",
       "    <tr>\n",
       "      <th>6</th>\n",
       "      <td>300000</td>\n",
       "      <td>50000</td>\n",
       "      <td>400</td>\n",
       "      <td>Amerika</td>\n",
       "    </tr>\n",
       "  </tbody>\n",
       "</table>\n",
       "</div>"
      ],
      "text/plain": [
       "    Nüfus    GDP  Alan     Kıta\n",
       "0  222320  60000   120   Avrupa\n",
       "1  430500  45000    60     Asya\n",
       "2  180000  30000    70   Avrupa\n",
       "3  310000  40000   250  Amerika\n",
       "4   90200  70000   130   Avrupa\n",
       "5  180200  55000   300   Avrupa\n",
       "6  300000  50000   400  Amerika"
      ]
     },
     "execution_count": 103,
     "metadata": {},
     "output_type": "execute_result"
    }
   ],
   "source": [
    "df = pd.DataFrame({\n",
    "    'Nüfus': [222320, 430500, 180000, 310000, 90200, 180200, 300000],\n",
    "    'GDP': [60000, 45000, 30000, 40000, 70000, 55000, 50000],\n",
    "    'Alan': [120, 60, 70, 250, 130, 300, 400],\n",
    "    'Kıta': ['Avrupa', 'Asya', 'Avrupa', 'Amerika', 'Avrupa', 'Avrupa', 'Amerika']\n",
    "}, \n",
    "columns=['Nüfus', 'GDP', 'Alan', 'Kıta'])\n",
    "\n",
    "df"
   ]
  },
  {
   "cell_type": "markdown",
   "metadata": {},
   "source": [
    "index DataFrame'i oluştururken de tanımlanabilirdi, ayrı görebilmek için bu şekilde yazıyorum:"
   ]
  },
  {
   "cell_type": "code",
   "execution_count": 104,
   "metadata": {},
   "outputs": [
    {
     "data": {
      "text/html": [
       "<div>\n",
       "<style scoped>\n",
       "    .dataframe tbody tr th:only-of-type {\n",
       "        vertical-align: middle;\n",
       "    }\n",
       "\n",
       "    .dataframe tbody tr th {\n",
       "        vertical-align: top;\n",
       "    }\n",
       "\n",
       "    .dataframe thead th {\n",
       "        text-align: right;\n",
       "    }\n",
       "</style>\n",
       "<table border=\"1\" class=\"dataframe\">\n",
       "  <thead>\n",
       "    <tr style=\"text-align: right;\">\n",
       "      <th></th>\n",
       "      <th>Nüfus</th>\n",
       "      <th>GDP</th>\n",
       "      <th>Alan</th>\n",
       "      <th>Kıta</th>\n",
       "    </tr>\n",
       "  </thead>\n",
       "  <tbody>\n",
       "    <tr>\n",
       "      <th>Almanya</th>\n",
       "      <td>222320</td>\n",
       "      <td>60000</td>\n",
       "      <td>120</td>\n",
       "      <td>Avrupa</td>\n",
       "    </tr>\n",
       "    <tr>\n",
       "      <th>Japonya</th>\n",
       "      <td>430500</td>\n",
       "      <td>45000</td>\n",
       "      <td>60</td>\n",
       "      <td>Asya</td>\n",
       "    </tr>\n",
       "    <tr>\n",
       "      <th>İtalya</th>\n",
       "      <td>180000</td>\n",
       "      <td>30000</td>\n",
       "      <td>70</td>\n",
       "      <td>Avrupa</td>\n",
       "    </tr>\n",
       "    <tr>\n",
       "      <th>Kanada</th>\n",
       "      <td>310000</td>\n",
       "      <td>40000</td>\n",
       "      <td>250</td>\n",
       "      <td>Amerika</td>\n",
       "    </tr>\n",
       "    <tr>\n",
       "      <th>Norveç</th>\n",
       "      <td>90200</td>\n",
       "      <td>70000</td>\n",
       "      <td>130</td>\n",
       "      <td>Avrupa</td>\n",
       "    </tr>\n",
       "    <tr>\n",
       "      <th>İngiltere</th>\n",
       "      <td>180200</td>\n",
       "      <td>55000</td>\n",
       "      <td>300</td>\n",
       "      <td>Avrupa</td>\n",
       "    </tr>\n",
       "    <tr>\n",
       "      <th>USA</th>\n",
       "      <td>300000</td>\n",
       "      <td>50000</td>\n",
       "      <td>400</td>\n",
       "      <td>Amerika</td>\n",
       "    </tr>\n",
       "  </tbody>\n",
       "</table>\n",
       "</div>"
      ],
      "text/plain": [
       "            Nüfus    GDP  Alan     Kıta\n",
       "Almanya    222320  60000   120   Avrupa\n",
       "Japonya    430500  45000    60     Asya\n",
       "İtalya     180000  30000    70   Avrupa\n",
       "Kanada     310000  40000   250  Amerika\n",
       "Norveç      90200  70000   130   Avrupa\n",
       "İngiltere  180200  55000   300   Avrupa\n",
       "USA        300000  50000   400  Amerika"
      ]
     },
     "execution_count": 104,
     "metadata": {},
     "output_type": "execute_result"
    }
   ],
   "source": [
    "df.index = ['Almanya', 'Japonya', 'İtalya', 'Kanada', 'Norveç', 'İngiltere', 'USA']\n",
    "df"
   ]
  },
  {
   "cell_type": "markdown",
   "metadata": {},
   "source": [
    "DataFrame sütunları (column) aslında birer seri olduğu için DataFrame'i serilerin birleşimi olarak düşünebiliriz."
   ]
  },
  {
   "cell_type": "code",
   "execution_count": 96,
   "metadata": {},
   "outputs": [
    {
     "data": {
      "text/plain": [
       "Index(['Nüfus', 'GDP', 'Alan', 'Kıta'], dtype='object')"
      ]
     },
     "execution_count": 96,
     "metadata": {},
     "output_type": "execute_result"
    }
   ],
   "source": [
    "df.columns"
   ]
  },
  {
   "cell_type": "code",
   "execution_count": 44,
   "metadata": {},
   "outputs": [
    {
     "data": {
      "text/plain": [
       "Index(['Almanya', 'Japonya', 'İtalya', 'Kanada', 'Norveç', 'İngiltere', 'USA'], dtype='object')"
      ]
     },
     "execution_count": 44,
     "metadata": {},
     "output_type": "execute_result"
    }
   ],
   "source": [
    "df.index"
   ]
  },
  {
   "cell_type": "code",
   "execution_count": 45,
   "metadata": {},
   "outputs": [
    {
     "name": "stdout",
     "output_type": "stream",
     "text": [
      "<class 'pandas.core.frame.DataFrame'>\n",
      "Index: 7 entries, Almanya to USA\n",
      "Data columns (total 4 columns):\n",
      " #   Column  Non-Null Count  Dtype \n",
      "---  ------  --------------  ----- \n",
      " 0   Nüfus   7 non-null      int64 \n",
      " 1   GDP     7 non-null      int64 \n",
      " 2   Alan    7 non-null      int64 \n",
      " 3   Kıta    7 non-null      object\n",
      "dtypes: int64(3), object(1)\n",
      "memory usage: 280.0+ bytes\n"
     ]
    }
   ],
   "source": [
    "df.info()"
   ]
  },
  {
   "cell_type": "code",
   "execution_count": 46,
   "metadata": {},
   "outputs": [
    {
     "data": {
      "text/plain": [
       "28"
      ]
     },
     "execution_count": 46,
     "metadata": {},
     "output_type": "execute_result"
    }
   ],
   "source": [
    "df.size"
   ]
  },
  {
   "cell_type": "code",
   "execution_count": 47,
   "metadata": {},
   "outputs": [
    {
     "data": {
      "text/plain": [
       "(7, 4)"
      ]
     },
     "execution_count": 47,
     "metadata": {},
     "output_type": "execute_result"
    }
   ],
   "source": [
    "df.shape"
   ]
  },
  {
   "cell_type": "code",
   "execution_count": 48,
   "metadata": {},
   "outputs": [
    {
     "data": {
      "text/html": [
       "<div>\n",
       "<style scoped>\n",
       "    .dataframe tbody tr th:only-of-type {\n",
       "        vertical-align: middle;\n",
       "    }\n",
       "\n",
       "    .dataframe tbody tr th {\n",
       "        vertical-align: top;\n",
       "    }\n",
       "\n",
       "    .dataframe thead th {\n",
       "        text-align: right;\n",
       "    }\n",
       "</style>\n",
       "<table border=\"1\" class=\"dataframe\">\n",
       "  <thead>\n",
       "    <tr style=\"text-align: right;\">\n",
       "      <th></th>\n",
       "      <th>Nüfus</th>\n",
       "      <th>GDP</th>\n",
       "      <th>Alan</th>\n",
       "    </tr>\n",
       "  </thead>\n",
       "  <tbody>\n",
       "    <tr>\n",
       "      <th>count</th>\n",
       "      <td>7.000000</td>\n",
       "      <td>7.000000</td>\n",
       "      <td>7.000000</td>\n",
       "    </tr>\n",
       "    <tr>\n",
       "      <th>mean</th>\n",
       "      <td>244745.714286</td>\n",
       "      <td>50000.000000</td>\n",
       "      <td>190.000000</td>\n",
       "    </tr>\n",
       "    <tr>\n",
       "      <th>std</th>\n",
       "      <td>111475.901560</td>\n",
       "      <td>13228.756555</td>\n",
       "      <td>128.840987</td>\n",
       "    </tr>\n",
       "    <tr>\n",
       "      <th>min</th>\n",
       "      <td>90200.000000</td>\n",
       "      <td>30000.000000</td>\n",
       "      <td>60.000000</td>\n",
       "    </tr>\n",
       "    <tr>\n",
       "      <th>25%</th>\n",
       "      <td>180100.000000</td>\n",
       "      <td>42500.000000</td>\n",
       "      <td>95.000000</td>\n",
       "    </tr>\n",
       "    <tr>\n",
       "      <th>50%</th>\n",
       "      <td>222320.000000</td>\n",
       "      <td>50000.000000</td>\n",
       "      <td>130.000000</td>\n",
       "    </tr>\n",
       "    <tr>\n",
       "      <th>75%</th>\n",
       "      <td>305000.000000</td>\n",
       "      <td>57500.000000</td>\n",
       "      <td>275.000000</td>\n",
       "    </tr>\n",
       "    <tr>\n",
       "      <th>max</th>\n",
       "      <td>430500.000000</td>\n",
       "      <td>70000.000000</td>\n",
       "      <td>400.000000</td>\n",
       "    </tr>\n",
       "  </tbody>\n",
       "</table>\n",
       "</div>"
      ],
      "text/plain": [
       "               Nüfus           GDP        Alan\n",
       "count       7.000000      7.000000    7.000000\n",
       "mean   244745.714286  50000.000000  190.000000\n",
       "std    111475.901560  13228.756555  128.840987\n",
       "min     90200.000000  30000.000000   60.000000\n",
       "25%    180100.000000  42500.000000   95.000000\n",
       "50%    222320.000000  50000.000000  130.000000\n",
       "75%    305000.000000  57500.000000  275.000000\n",
       "max    430500.000000  70000.000000  400.000000"
      ]
     },
     "execution_count": 48,
     "metadata": {},
     "output_type": "execute_result"
    }
   ],
   "source": [
    "df.describe()"
   ]
  },
  {
   "cell_type": "code",
   "execution_count": 49,
   "metadata": {},
   "outputs": [
    {
     "data": {
      "text/plain": [
       "Nüfus     int64\n",
       "GDP       int64\n",
       "Alan      int64\n",
       "Kıta     object\n",
       "dtype: object"
      ]
     },
     "execution_count": 49,
     "metadata": {},
     "output_type": "execute_result"
    }
   ],
   "source": [
    "df.dtypes"
   ]
  },
  {
   "cell_type": "code",
   "execution_count": 50,
   "metadata": {},
   "outputs": [
    {
     "data": {
      "text/plain": [
       "int64     3\n",
       "object    1\n",
       "dtype: int64"
      ]
     },
     "execution_count": 50,
     "metadata": {},
     "output_type": "execute_result"
    }
   ],
   "source": [
    "df.dtypes.value_counts()"
   ]
  },
  {
   "cell_type": "markdown",
   "metadata": {},
   "source": [
    "### indeks'ler"
   ]
  },
  {
   "cell_type": "code",
   "execution_count": 51,
   "metadata": {},
   "outputs": [
    {
     "data": {
      "text/plain": [
       "Nüfus    222320\n",
       "GDP       60000\n",
       "Alan        120\n",
       "Kıta     Avrupa\n",
       "Name: Almanya, dtype: object"
      ]
     },
     "execution_count": 51,
     "metadata": {},
     "output_type": "execute_result"
    }
   ],
   "source": [
    "df.loc['Almanya']"
   ]
  },
  {
   "cell_type": "code",
   "execution_count": 53,
   "metadata": {},
   "outputs": [
    {
     "data": {
      "text/plain": [
       "Nüfus    180000\n",
       "GDP       30000\n",
       "Alan         70\n",
       "Kıta     Avrupa\n",
       "Name: İtalya, dtype: object"
      ]
     },
     "execution_count": 53,
     "metadata": {},
     "output_type": "execute_result"
    }
   ],
   "source": [
    "df.iloc[2]"
   ]
  },
  {
   "cell_type": "code",
   "execution_count": 54,
   "metadata": {},
   "outputs": [
    {
     "data": {
      "text/plain": [
       "Almanya      120\n",
       "Japonya       60\n",
       "İtalya        70\n",
       "Kanada       250\n",
       "Norveç       130\n",
       "İngiltere    300\n",
       "USA          400\n",
       "Name: Alan, dtype: int64"
      ]
     },
     "execution_count": 54,
     "metadata": {},
     "output_type": "execute_result"
    }
   ],
   "source": [
    "df[\"Alan\"]"
   ]
  },
  {
   "cell_type": "code",
   "execution_count": 55,
   "metadata": {},
   "outputs": [
    {
     "data": {
      "text/html": [
       "<div>\n",
       "<style scoped>\n",
       "    .dataframe tbody tr th:only-of-type {\n",
       "        vertical-align: middle;\n",
       "    }\n",
       "\n",
       "    .dataframe tbody tr th {\n",
       "        vertical-align: top;\n",
       "    }\n",
       "\n",
       "    .dataframe thead th {\n",
       "        text-align: right;\n",
       "    }\n",
       "</style>\n",
       "<table border=\"1\" class=\"dataframe\">\n",
       "  <thead>\n",
       "    <tr style=\"text-align: right;\">\n",
       "      <th></th>\n",
       "      <th>Nüfus</th>\n",
       "      <th>GDP</th>\n",
       "      <th>Alan</th>\n",
       "      <th>Kıta</th>\n",
       "    </tr>\n",
       "  </thead>\n",
       "  <tbody>\n",
       "    <tr>\n",
       "      <th>İtalya</th>\n",
       "      <td>180000</td>\n",
       "      <td>30000</td>\n",
       "      <td>70</td>\n",
       "      <td>Avrupa</td>\n",
       "    </tr>\n",
       "    <tr>\n",
       "      <th>Kanada</th>\n",
       "      <td>310000</td>\n",
       "      <td>40000</td>\n",
       "      <td>250</td>\n",
       "      <td>Amerika</td>\n",
       "    </tr>\n",
       "    <tr>\n",
       "      <th>Norveç</th>\n",
       "      <td>90200</td>\n",
       "      <td>70000</td>\n",
       "      <td>130</td>\n",
       "      <td>Avrupa</td>\n",
       "    </tr>\n",
       "    <tr>\n",
       "      <th>İngiltere</th>\n",
       "      <td>180200</td>\n",
       "      <td>55000</td>\n",
       "      <td>300</td>\n",
       "      <td>Avrupa</td>\n",
       "    </tr>\n",
       "  </tbody>\n",
       "</table>\n",
       "</div>"
      ],
      "text/plain": [
       "            Nüfus    GDP  Alan     Kıta\n",
       "İtalya     180000  30000    70   Avrupa\n",
       "Kanada     310000  40000   250  Amerika\n",
       "Norveç      90200  70000   130   Avrupa\n",
       "İngiltere  180200  55000   300   Avrupa"
      ]
     },
     "execution_count": 55,
     "metadata": {},
     "output_type": "execute_result"
    }
   ],
   "source": [
    "df.loc[\"İtalya\": \"İngiltere\"]"
   ]
  },
  {
   "cell_type": "code",
   "execution_count": 56,
   "metadata": {},
   "outputs": [
    {
     "data": {
      "text/plain": [
       "İtalya       180000\n",
       "Kanada       310000\n",
       "Norveç        90200\n",
       "İngiltere    180200\n",
       "Name: Nüfus, dtype: int64"
      ]
     },
     "execution_count": 56,
     "metadata": {},
     "output_type": "execute_result"
    }
   ],
   "source": [
    "df.loc[\"İtalya\": \"İngiltere\", \"Nüfus\"]"
   ]
  },
  {
   "cell_type": "code",
   "execution_count": 57,
   "metadata": {},
   "outputs": [
    {
     "data": {
      "text/html": [
       "<div>\n",
       "<style scoped>\n",
       "    .dataframe tbody tr th:only-of-type {\n",
       "        vertical-align: middle;\n",
       "    }\n",
       "\n",
       "    .dataframe tbody tr th {\n",
       "        vertical-align: top;\n",
       "    }\n",
       "\n",
       "    .dataframe thead th {\n",
       "        text-align: right;\n",
       "    }\n",
       "</style>\n",
       "<table border=\"1\" class=\"dataframe\">\n",
       "  <thead>\n",
       "    <tr style=\"text-align: right;\">\n",
       "      <th></th>\n",
       "      <th>Nüfus</th>\n",
       "      <th>GDP</th>\n",
       "    </tr>\n",
       "  </thead>\n",
       "  <tbody>\n",
       "    <tr>\n",
       "      <th>İtalya</th>\n",
       "      <td>180000</td>\n",
       "      <td>30000</td>\n",
       "    </tr>\n",
       "    <tr>\n",
       "      <th>Kanada</th>\n",
       "      <td>310000</td>\n",
       "      <td>40000</td>\n",
       "    </tr>\n",
       "    <tr>\n",
       "      <th>Norveç</th>\n",
       "      <td>90200</td>\n",
       "      <td>70000</td>\n",
       "    </tr>\n",
       "    <tr>\n",
       "      <th>İngiltere</th>\n",
       "      <td>180200</td>\n",
       "      <td>55000</td>\n",
       "    </tr>\n",
       "  </tbody>\n",
       "</table>\n",
       "</div>"
      ],
      "text/plain": [
       "            Nüfus    GDP\n",
       "İtalya     180000  30000\n",
       "Kanada     310000  40000\n",
       "Norveç      90200  70000\n",
       "İngiltere  180200  55000"
      ]
     },
     "execution_count": 57,
     "metadata": {},
     "output_type": "execute_result"
    }
   ],
   "source": [
    "df.loc[\"İtalya\": \"İngiltere\", [\"Nüfus\", \"GDP\"]]"
   ]
  },
  {
   "cell_type": "code",
   "execution_count": 58,
   "metadata": {},
   "outputs": [
    {
     "data": {
      "text/html": [
       "<div>\n",
       "<style scoped>\n",
       "    .dataframe tbody tr th:only-of-type {\n",
       "        vertical-align: middle;\n",
       "    }\n",
       "\n",
       "    .dataframe tbody tr th {\n",
       "        vertical-align: top;\n",
       "    }\n",
       "\n",
       "    .dataframe thead th {\n",
       "        text-align: right;\n",
       "    }\n",
       "</style>\n",
       "<table border=\"1\" class=\"dataframe\">\n",
       "  <thead>\n",
       "    <tr style=\"text-align: right;\">\n",
       "      <th></th>\n",
       "      <th>GDP</th>\n",
       "      <th>Alan</th>\n",
       "    </tr>\n",
       "  </thead>\n",
       "  <tbody>\n",
       "    <tr>\n",
       "      <th>Japonya</th>\n",
       "      <td>45000</td>\n",
       "      <td>60</td>\n",
       "    </tr>\n",
       "    <tr>\n",
       "      <th>İtalya</th>\n",
       "      <td>30000</td>\n",
       "      <td>70</td>\n",
       "    </tr>\n",
       "  </tbody>\n",
       "</table>\n",
       "</div>"
      ],
      "text/plain": [
       "           GDP  Alan\n",
       "Japonya  45000    60\n",
       "İtalya   30000    70"
      ]
     },
     "execution_count": 58,
     "metadata": {},
     "output_type": "execute_result"
    }
   ],
   "source": [
    "df.iloc[1:3, 1:3]"
   ]
  },
  {
   "cell_type": "markdown",
   "metadata": {},
   "source": [
    "**Not :** ```iloc``` ve ```loc``` kullanmak doğrudan DataFrame'den indekslemeye göre daha faydalı."
   ]
  },
  {
   "cell_type": "markdown",
   "metadata": {},
   "source": [
    "### Şartlı indeksleme"
   ]
  },
  {
   "cell_type": "code",
   "execution_count": 61,
   "metadata": {},
   "outputs": [
    {
     "data": {
      "text/plain": [
       "Kanada       310000\n",
       "İngiltere    180200\n",
       "USA          300000\n",
       "Name: Nüfus, dtype: int64"
      ]
     },
     "execution_count": 61,
     "metadata": {},
     "output_type": "execute_result"
    }
   ],
   "source": [
    "df.loc[df[\"Alan\"] > 150, \"Nüfus\"]"
   ]
  },
  {
   "cell_type": "markdown",
   "metadata": {},
   "source": [
    "### DataFrame'den sütun silme (drop)"
   ]
  },
  {
   "cell_type": "code",
   "execution_count": 63,
   "metadata": {},
   "outputs": [
    {
     "data": {
      "text/html": [
       "<div>\n",
       "<style scoped>\n",
       "    .dataframe tbody tr th:only-of-type {\n",
       "        vertical-align: middle;\n",
       "    }\n",
       "\n",
       "    .dataframe tbody tr th {\n",
       "        vertical-align: top;\n",
       "    }\n",
       "\n",
       "    .dataframe thead th {\n",
       "        text-align: right;\n",
       "    }\n",
       "</style>\n",
       "<table border=\"1\" class=\"dataframe\">\n",
       "  <thead>\n",
       "    <tr style=\"text-align: right;\">\n",
       "      <th></th>\n",
       "      <th>Nüfus</th>\n",
       "      <th>GDP</th>\n",
       "      <th>Alan</th>\n",
       "      <th>Kıta</th>\n",
       "    </tr>\n",
       "  </thead>\n",
       "  <tbody>\n",
       "    <tr>\n",
       "      <th>Almanya</th>\n",
       "      <td>222320</td>\n",
       "      <td>60000</td>\n",
       "      <td>120</td>\n",
       "      <td>Avrupa</td>\n",
       "    </tr>\n",
       "    <tr>\n",
       "      <th>İtalya</th>\n",
       "      <td>180000</td>\n",
       "      <td>30000</td>\n",
       "      <td>70</td>\n",
       "      <td>Avrupa</td>\n",
       "    </tr>\n",
       "    <tr>\n",
       "      <th>Norveç</th>\n",
       "      <td>90200</td>\n",
       "      <td>70000</td>\n",
       "      <td>130</td>\n",
       "      <td>Avrupa</td>\n",
       "    </tr>\n",
       "    <tr>\n",
       "      <th>İngiltere</th>\n",
       "      <td>180200</td>\n",
       "      <td>55000</td>\n",
       "      <td>300</td>\n",
       "      <td>Avrupa</td>\n",
       "    </tr>\n",
       "    <tr>\n",
       "      <th>USA</th>\n",
       "      <td>300000</td>\n",
       "      <td>50000</td>\n",
       "      <td>400</td>\n",
       "      <td>Amerika</td>\n",
       "    </tr>\n",
       "  </tbody>\n",
       "</table>\n",
       "</div>"
      ],
      "text/plain": [
       "            Nüfus    GDP  Alan     Kıta\n",
       "Almanya    222320  60000   120   Avrupa\n",
       "İtalya     180000  30000    70   Avrupa\n",
       "Norveç      90200  70000   130   Avrupa\n",
       "İngiltere  180200  55000   300   Avrupa\n",
       "USA        300000  50000   400  Amerika"
      ]
     },
     "execution_count": 63,
     "metadata": {},
     "output_type": "execute_result"
    }
   ],
   "source": [
    "df2 = df.drop([\"Kanada\", \"Japonya\"])\n",
    "df2"
   ]
  },
  {
   "cell_type": "code",
   "execution_count": 64,
   "metadata": {},
   "outputs": [
    {
     "data": {
      "text/html": [
       "<div>\n",
       "<style scoped>\n",
       "    .dataframe tbody tr th:only-of-type {\n",
       "        vertical-align: middle;\n",
       "    }\n",
       "\n",
       "    .dataframe tbody tr th {\n",
       "        vertical-align: top;\n",
       "    }\n",
       "\n",
       "    .dataframe thead th {\n",
       "        text-align: right;\n",
       "    }\n",
       "</style>\n",
       "<table border=\"1\" class=\"dataframe\">\n",
       "  <thead>\n",
       "    <tr style=\"text-align: right;\">\n",
       "      <th></th>\n",
       "      <th>GDP</th>\n",
       "      <th>Alan</th>\n",
       "      <th>Kıta</th>\n",
       "    </tr>\n",
       "  </thead>\n",
       "  <tbody>\n",
       "    <tr>\n",
       "      <th>Almanya</th>\n",
       "      <td>60000</td>\n",
       "      <td>120</td>\n",
       "      <td>Avrupa</td>\n",
       "    </tr>\n",
       "    <tr>\n",
       "      <th>Japonya</th>\n",
       "      <td>45000</td>\n",
       "      <td>60</td>\n",
       "      <td>Asya</td>\n",
       "    </tr>\n",
       "    <tr>\n",
       "      <th>İtalya</th>\n",
       "      <td>30000</td>\n",
       "      <td>70</td>\n",
       "      <td>Avrupa</td>\n",
       "    </tr>\n",
       "    <tr>\n",
       "      <th>Kanada</th>\n",
       "      <td>40000</td>\n",
       "      <td>250</td>\n",
       "      <td>Amerika</td>\n",
       "    </tr>\n",
       "    <tr>\n",
       "      <th>Norveç</th>\n",
       "      <td>70000</td>\n",
       "      <td>130</td>\n",
       "      <td>Avrupa</td>\n",
       "    </tr>\n",
       "    <tr>\n",
       "      <th>İngiltere</th>\n",
       "      <td>55000</td>\n",
       "      <td>300</td>\n",
       "      <td>Avrupa</td>\n",
       "    </tr>\n",
       "    <tr>\n",
       "      <th>USA</th>\n",
       "      <td>50000</td>\n",
       "      <td>400</td>\n",
       "      <td>Amerika</td>\n",
       "    </tr>\n",
       "  </tbody>\n",
       "</table>\n",
       "</div>"
      ],
      "text/plain": [
       "             GDP  Alan     Kıta\n",
       "Almanya    60000   120   Avrupa\n",
       "Japonya    45000    60     Asya\n",
       "İtalya     30000    70   Avrupa\n",
       "Kanada     40000   250  Amerika\n",
       "Norveç     70000   130   Avrupa\n",
       "İngiltere  55000   300   Avrupa\n",
       "USA        50000   400  Amerika"
      ]
     },
     "execution_count": 64,
     "metadata": {},
     "output_type": "execute_result"
    }
   ],
   "source": [
    "df2 = df.drop(columns = [\"Nüfus\"])\n",
    "df2"
   ]
  },
  {
   "cell_type": "markdown",
   "metadata": {},
   "source": [
    "### Matematiksel işlemler"
   ]
  },
  {
   "cell_type": "code",
   "execution_count": 67,
   "metadata": {},
   "outputs": [
    {
     "data": {
      "text/html": [
       "<div>\n",
       "<style scoped>\n",
       "    .dataframe tbody tr th:only-of-type {\n",
       "        vertical-align: middle;\n",
       "    }\n",
       "\n",
       "    .dataframe tbody tr th {\n",
       "        vertical-align: top;\n",
       "    }\n",
       "\n",
       "    .dataframe thead th {\n",
       "        text-align: right;\n",
       "    }\n",
       "</style>\n",
       "<table border=\"1\" class=\"dataframe\">\n",
       "  <thead>\n",
       "    <tr style=\"text-align: right;\">\n",
       "      <th></th>\n",
       "      <th>Nüfus</th>\n",
       "      <th>GDP</th>\n",
       "    </tr>\n",
       "  </thead>\n",
       "  <tbody>\n",
       "    <tr>\n",
       "      <th>Almanya</th>\n",
       "      <td>2223.2</td>\n",
       "      <td>600.0</td>\n",
       "    </tr>\n",
       "    <tr>\n",
       "      <th>Japonya</th>\n",
       "      <td>4305.0</td>\n",
       "      <td>450.0</td>\n",
       "    </tr>\n",
       "    <tr>\n",
       "      <th>İtalya</th>\n",
       "      <td>1800.0</td>\n",
       "      <td>300.0</td>\n",
       "    </tr>\n",
       "    <tr>\n",
       "      <th>Kanada</th>\n",
       "      <td>3100.0</td>\n",
       "      <td>400.0</td>\n",
       "    </tr>\n",
       "    <tr>\n",
       "      <th>Norveç</th>\n",
       "      <td>902.0</td>\n",
       "      <td>700.0</td>\n",
       "    </tr>\n",
       "    <tr>\n",
       "      <th>İngiltere</th>\n",
       "      <td>1802.0</td>\n",
       "      <td>550.0</td>\n",
       "    </tr>\n",
       "    <tr>\n",
       "      <th>USA</th>\n",
       "      <td>3000.0</td>\n",
       "      <td>500.0</td>\n",
       "    </tr>\n",
       "  </tbody>\n",
       "</table>\n",
       "</div>"
      ],
      "text/plain": [
       "            Nüfus    GDP\n",
       "Almanya    2223.2  600.0\n",
       "Japonya    4305.0  450.0\n",
       "İtalya     1800.0  300.0\n",
       "Kanada     3100.0  400.0\n",
       "Norveç      902.0  700.0\n",
       "İngiltere  1802.0  550.0\n",
       "USA        3000.0  500.0"
      ]
     },
     "execution_count": 67,
     "metadata": {},
     "output_type": "execute_result"
    }
   ],
   "source": [
    "df2 = df[[\"Nüfus\", \"GDP\"]] / 100\n",
    "df2"
   ]
  },
  {
   "cell_type": "code",
   "execution_count": 72,
   "metadata": {},
   "outputs": [],
   "source": [
    "kriz = pd.Series([-5000, -50000], index=[\"GDP\", \"Nüfus\"])"
   ]
  },
  {
   "cell_type": "code",
   "execution_count": 73,
   "metadata": {},
   "outputs": [
    {
     "data": {
      "text/html": [
       "<div>\n",
       "<style scoped>\n",
       "    .dataframe tbody tr th:only-of-type {\n",
       "        vertical-align: middle;\n",
       "    }\n",
       "\n",
       "    .dataframe tbody tr th {\n",
       "        vertical-align: top;\n",
       "    }\n",
       "\n",
       "    .dataframe thead th {\n",
       "        text-align: right;\n",
       "    }\n",
       "</style>\n",
       "<table border=\"1\" class=\"dataframe\">\n",
       "  <thead>\n",
       "    <tr style=\"text-align: right;\">\n",
       "      <th></th>\n",
       "      <th>GDP</th>\n",
       "      <th>Nüfus</th>\n",
       "    </tr>\n",
       "  </thead>\n",
       "  <tbody>\n",
       "    <tr>\n",
       "      <th>Almanya</th>\n",
       "      <td>55000</td>\n",
       "      <td>172320</td>\n",
       "    </tr>\n",
       "    <tr>\n",
       "      <th>Japonya</th>\n",
       "      <td>40000</td>\n",
       "      <td>380500</td>\n",
       "    </tr>\n",
       "    <tr>\n",
       "      <th>İtalya</th>\n",
       "      <td>25000</td>\n",
       "      <td>130000</td>\n",
       "    </tr>\n",
       "    <tr>\n",
       "      <th>Kanada</th>\n",
       "      <td>35000</td>\n",
       "      <td>260000</td>\n",
       "    </tr>\n",
       "    <tr>\n",
       "      <th>Norveç</th>\n",
       "      <td>65000</td>\n",
       "      <td>40200</td>\n",
       "    </tr>\n",
       "    <tr>\n",
       "      <th>İngiltere</th>\n",
       "      <td>50000</td>\n",
       "      <td>130200</td>\n",
       "    </tr>\n",
       "    <tr>\n",
       "      <th>USA</th>\n",
       "      <td>45000</td>\n",
       "      <td>250000</td>\n",
       "    </tr>\n",
       "  </tbody>\n",
       "</table>\n",
       "</div>"
      ],
      "text/plain": [
       "             GDP   Nüfus\n",
       "Almanya    55000  172320\n",
       "Japonya    40000  380500\n",
       "İtalya     25000  130000\n",
       "Kanada     35000  260000\n",
       "Norveç     65000   40200\n",
       "İngiltere  50000  130200\n",
       "USA        45000  250000"
      ]
     },
     "execution_count": 73,
     "metadata": {},
     "output_type": "execute_result"
    }
   ],
   "source": [
    "df2 = df[[\"GDP\", \"Nüfus\"]] + kriz\n",
    "df2"
   ]
  },
  {
   "cell_type": "markdown",
   "metadata": {},
   "source": [
    "### DataFrame'i güncelleme"
   ]
  },
  {
   "cell_type": "code",
   "execution_count": 75,
   "metadata": {},
   "outputs": [
    {
     "data": {
      "text/html": [
       "<div>\n",
       "<style scoped>\n",
       "    .dataframe tbody tr th:only-of-type {\n",
       "        vertical-align: middle;\n",
       "    }\n",
       "\n",
       "    .dataframe tbody tr th {\n",
       "        vertical-align: top;\n",
       "    }\n",
       "\n",
       "    .dataframe thead th {\n",
       "        text-align: right;\n",
       "    }\n",
       "</style>\n",
       "<table border=\"1\" class=\"dataframe\">\n",
       "  <thead>\n",
       "    <tr style=\"text-align: right;\">\n",
       "      <th></th>\n",
       "      <th>Nüfus</th>\n",
       "      <th>GDP</th>\n",
       "      <th>Alan</th>\n",
       "      <th>Kıta</th>\n",
       "      <th>Dil</th>\n",
       "    </tr>\n",
       "  </thead>\n",
       "  <tbody>\n",
       "    <tr>\n",
       "      <th>Almanya</th>\n",
       "      <td>222320</td>\n",
       "      <td>60000</td>\n",
       "      <td>120</td>\n",
       "      <td>Avrupa</td>\n",
       "      <td>Almanca</td>\n",
       "    </tr>\n",
       "    <tr>\n",
       "      <th>Japonya</th>\n",
       "      <td>430500</td>\n",
       "      <td>45000</td>\n",
       "      <td>60</td>\n",
       "      <td>Asya</td>\n",
       "      <td>Japonca</td>\n",
       "    </tr>\n",
       "    <tr>\n",
       "      <th>İtalya</th>\n",
       "      <td>180000</td>\n",
       "      <td>30000</td>\n",
       "      <td>70</td>\n",
       "      <td>Avrupa</td>\n",
       "      <td>İtalyanca</td>\n",
       "    </tr>\n",
       "    <tr>\n",
       "      <th>Kanada</th>\n",
       "      <td>310000</td>\n",
       "      <td>40000</td>\n",
       "      <td>250</td>\n",
       "      <td>Amerika</td>\n",
       "      <td>İngilizce</td>\n",
       "    </tr>\n",
       "    <tr>\n",
       "      <th>Norveç</th>\n",
       "      <td>90200</td>\n",
       "      <td>70000</td>\n",
       "      <td>130</td>\n",
       "      <td>Avrupa</td>\n",
       "      <td>Norveçce</td>\n",
       "    </tr>\n",
       "    <tr>\n",
       "      <th>İngiltere</th>\n",
       "      <td>180200</td>\n",
       "      <td>55000</td>\n",
       "      <td>300</td>\n",
       "      <td>Avrupa</td>\n",
       "      <td>İngilizce</td>\n",
       "    </tr>\n",
       "    <tr>\n",
       "      <th>USA</th>\n",
       "      <td>300000</td>\n",
       "      <td>50000</td>\n",
       "      <td>400</td>\n",
       "      <td>Amerika</td>\n",
       "      <td>İngilizce</td>\n",
       "    </tr>\n",
       "  </tbody>\n",
       "</table>\n",
       "</div>"
      ],
      "text/plain": [
       "            Nüfus    GDP  Alan     Kıta        Dil\n",
       "Almanya    222320  60000   120   Avrupa    Almanca\n",
       "Japonya    430500  45000    60     Asya    Japonca\n",
       "İtalya     180000  30000    70   Avrupa  İtalyanca\n",
       "Kanada     310000  40000   250  Amerika  İngilizce\n",
       "Norveç      90200  70000   130   Avrupa   Norveçce\n",
       "İngiltere  180200  55000   300   Avrupa  İngilizce\n",
       "USA        300000  50000   400  Amerika  İngilizce"
      ]
     },
     "execution_count": 75,
     "metadata": {},
     "output_type": "execute_result"
    }
   ],
   "source": [
    "dil = pd.Series([\"Almanca\", \"Japonca\", \"İtalyanca\", \"İngilizce\", \"Norveçce\", \"İngilizce\", \"İngilizce\"],\n",
    "               index= ['Almanya', 'Japonya', 'İtalya', 'Kanada', 'Norveç', 'İngiltere', 'USA'],\n",
    "               name=\"Dil\")\n",
    "df[\"Dil\"] = dil\n",
    "df"
   ]
  },
  {
   "cell_type": "code",
   "execution_count": 84,
   "metadata": {},
   "outputs": [
    {
     "data": {
      "text/html": [
       "<div>\n",
       "<style scoped>\n",
       "    .dataframe tbody tr th:only-of-type {\n",
       "        vertical-align: middle;\n",
       "    }\n",
       "\n",
       "    .dataframe tbody tr th {\n",
       "        vertical-align: top;\n",
       "    }\n",
       "\n",
       "    .dataframe thead th {\n",
       "        text-align: right;\n",
       "    }\n",
       "</style>\n",
       "<table border=\"1\" class=\"dataframe\">\n",
       "  <thead>\n",
       "    <tr style=\"text-align: right;\">\n",
       "      <th></th>\n",
       "      <th>Nüfus</th>\n",
       "      <th>Milli Gelir</th>\n",
       "      <th>Alan</th>\n",
       "      <th>Kıta</th>\n",
       "      <th>Dil</th>\n",
       "    </tr>\n",
       "  </thead>\n",
       "  <tbody>\n",
       "    <tr>\n",
       "      <th>Almanya</th>\n",
       "      <td>222320</td>\n",
       "      <td>60000</td>\n",
       "      <td>120</td>\n",
       "      <td>Avrupa</td>\n",
       "      <td>Almanca</td>\n",
       "    </tr>\n",
       "    <tr>\n",
       "      <th>Japonya</th>\n",
       "      <td>430500</td>\n",
       "      <td>45000</td>\n",
       "      <td>60</td>\n",
       "      <td>Asya</td>\n",
       "      <td>Japonca</td>\n",
       "    </tr>\n",
       "    <tr>\n",
       "      <th>İtalya</th>\n",
       "      <td>180000</td>\n",
       "      <td>30000</td>\n",
       "      <td>70</td>\n",
       "      <td>Avrupa</td>\n",
       "      <td>İtalyanca</td>\n",
       "    </tr>\n",
       "    <tr>\n",
       "      <th>Kanada</th>\n",
       "      <td>310000</td>\n",
       "      <td>40000</td>\n",
       "      <td>250</td>\n",
       "      <td>Amerika</td>\n",
       "      <td>İngilizce</td>\n",
       "    </tr>\n",
       "    <tr>\n",
       "      <th>Norveç</th>\n",
       "      <td>90200</td>\n",
       "      <td>70000</td>\n",
       "      <td>130</td>\n",
       "      <td>Avrupa</td>\n",
       "      <td>Norveçce</td>\n",
       "    </tr>\n",
       "    <tr>\n",
       "      <th>UK</th>\n",
       "      <td>180200</td>\n",
       "      <td>55000</td>\n",
       "      <td>300</td>\n",
       "      <td>Avrupa</td>\n",
       "      <td>İngilizce</td>\n",
       "    </tr>\n",
       "    <tr>\n",
       "      <th>United States</th>\n",
       "      <td>300000</td>\n",
       "      <td>50000</td>\n",
       "      <td>400</td>\n",
       "      <td>Amerika</td>\n",
       "      <td>İngilizce</td>\n",
       "    </tr>\n",
       "  </tbody>\n",
       "</table>\n",
       "</div>"
      ],
      "text/plain": [
       "                Nüfus  Milli Gelir  Alan     Kıta        Dil\n",
       "Almanya        222320        60000   120   Avrupa    Almanca\n",
       "Japonya        430500        45000    60     Asya    Japonca\n",
       "İtalya         180000        30000    70   Avrupa  İtalyanca\n",
       "Kanada         310000        40000   250  Amerika  İngilizce\n",
       "Norveç          90200        70000   130   Avrupa   Norveçce\n",
       "UK             180200        55000   300   Avrupa  İngilizce\n",
       "United States  300000        50000   400  Amerika  İngilizce"
      ]
     },
     "execution_count": 84,
     "metadata": {},
     "output_type": "execute_result"
    }
   ],
   "source": [
    "df2 = df.rename(\n",
    "    columns={\n",
    "        \"GDP\": \"Milli Gelir\",\n",
    "        \"Denizler\": \"Deniz Kıyıları\" \n",
    "    },\n",
    "    index={\n",
    "        \"USA\": \"United States\",\n",
    "        \"İngiltere\": \"UK\"\n",
    "    }\n",
    ")\n",
    "df2"
   ]
  },
  {
   "cell_type": "code",
   "execution_count": 85,
   "metadata": {},
   "outputs": [
    {
     "data": {
      "text/html": [
       "<div>\n",
       "<style scoped>\n",
       "    .dataframe tbody tr th:only-of-type {\n",
       "        vertical-align: middle;\n",
       "    }\n",
       "\n",
       "    .dataframe tbody tr th {\n",
       "        vertical-align: top;\n",
       "    }\n",
       "\n",
       "    .dataframe thead th {\n",
       "        text-align: right;\n",
       "    }\n",
       "</style>\n",
       "<table border=\"1\" class=\"dataframe\">\n",
       "  <thead>\n",
       "    <tr style=\"text-align: right;\">\n",
       "      <th></th>\n",
       "      <th>Nüfus</th>\n",
       "      <th>GDP</th>\n",
       "      <th>Alan</th>\n",
       "      <th>Kıta</th>\n",
       "      <th>Dil</th>\n",
       "    </tr>\n",
       "  </thead>\n",
       "  <tbody>\n",
       "    <tr>\n",
       "      <th>ALMANYA</th>\n",
       "      <td>222320</td>\n",
       "      <td>60000</td>\n",
       "      <td>120</td>\n",
       "      <td>Avrupa</td>\n",
       "      <td>Almanca</td>\n",
       "    </tr>\n",
       "    <tr>\n",
       "      <th>JAPONYA</th>\n",
       "      <td>430500</td>\n",
       "      <td>45000</td>\n",
       "      <td>60</td>\n",
       "      <td>Asya</td>\n",
       "      <td>Japonca</td>\n",
       "    </tr>\n",
       "    <tr>\n",
       "      <th>İTALYA</th>\n",
       "      <td>180000</td>\n",
       "      <td>30000</td>\n",
       "      <td>70</td>\n",
       "      <td>Avrupa</td>\n",
       "      <td>İtalyanca</td>\n",
       "    </tr>\n",
       "    <tr>\n",
       "      <th>KANADA</th>\n",
       "      <td>310000</td>\n",
       "      <td>40000</td>\n",
       "      <td>250</td>\n",
       "      <td>Amerika</td>\n",
       "      <td>İngilizce</td>\n",
       "    </tr>\n",
       "    <tr>\n",
       "      <th>NORVEÇ</th>\n",
       "      <td>90200</td>\n",
       "      <td>70000</td>\n",
       "      <td>130</td>\n",
       "      <td>Avrupa</td>\n",
       "      <td>Norveçce</td>\n",
       "    </tr>\n",
       "    <tr>\n",
       "      <th>İNGILTERE</th>\n",
       "      <td>180200</td>\n",
       "      <td>55000</td>\n",
       "      <td>300</td>\n",
       "      <td>Avrupa</td>\n",
       "      <td>İngilizce</td>\n",
       "    </tr>\n",
       "    <tr>\n",
       "      <th>USA</th>\n",
       "      <td>300000</td>\n",
       "      <td>50000</td>\n",
       "      <td>400</td>\n",
       "      <td>Amerika</td>\n",
       "      <td>İngilizce</td>\n",
       "    </tr>\n",
       "  </tbody>\n",
       "</table>\n",
       "</div>"
      ],
      "text/plain": [
       "            Nüfus    GDP  Alan     Kıta        Dil\n",
       "ALMANYA    222320  60000   120   Avrupa    Almanca\n",
       "JAPONYA    430500  45000    60     Asya    Japonca\n",
       "İTALYA     180000  30000    70   Avrupa  İtalyanca\n",
       "KANADA     310000  40000   250  Amerika  İngilizce\n",
       "NORVEÇ      90200  70000   130   Avrupa   Norveçce\n",
       "İNGILTERE  180200  55000   300   Avrupa  İngilizce\n",
       "USA        300000  50000   400  Amerika  İngilizce"
      ]
     },
     "execution_count": 85,
     "metadata": {},
     "output_type": "execute_result"
    }
   ],
   "source": [
    "df.rename(index=str.upper)"
   ]
  },
  {
   "cell_type": "code",
   "execution_count": 86,
   "metadata": {},
   "outputs": [
    {
     "data": {
      "text/html": [
       "<div>\n",
       "<style scoped>\n",
       "    .dataframe tbody tr th:only-of-type {\n",
       "        vertical-align: middle;\n",
       "    }\n",
       "\n",
       "    .dataframe tbody tr th {\n",
       "        vertical-align: top;\n",
       "    }\n",
       "\n",
       "    .dataframe thead th {\n",
       "        text-align: right;\n",
       "    }\n",
       "</style>\n",
       "<table border=\"1\" class=\"dataframe\">\n",
       "  <thead>\n",
       "    <tr style=\"text-align: right;\">\n",
       "      <th></th>\n",
       "      <th>Nüfus</th>\n",
       "      <th>GDP</th>\n",
       "      <th>Alan</th>\n",
       "      <th>Kıta</th>\n",
       "      <th>Dil</th>\n",
       "    </tr>\n",
       "  </thead>\n",
       "  <tbody>\n",
       "    <tr>\n",
       "      <th>almanya</th>\n",
       "      <td>222320</td>\n",
       "      <td>60000</td>\n",
       "      <td>120</td>\n",
       "      <td>Avrupa</td>\n",
       "      <td>Almanca</td>\n",
       "    </tr>\n",
       "    <tr>\n",
       "      <th>japonya</th>\n",
       "      <td>430500</td>\n",
       "      <td>45000</td>\n",
       "      <td>60</td>\n",
       "      <td>Asya</td>\n",
       "      <td>Japonca</td>\n",
       "    </tr>\n",
       "    <tr>\n",
       "      <th>i̇talya</th>\n",
       "      <td>180000</td>\n",
       "      <td>30000</td>\n",
       "      <td>70</td>\n",
       "      <td>Avrupa</td>\n",
       "      <td>İtalyanca</td>\n",
       "    </tr>\n",
       "    <tr>\n",
       "      <th>kanada</th>\n",
       "      <td>310000</td>\n",
       "      <td>40000</td>\n",
       "      <td>250</td>\n",
       "      <td>Amerika</td>\n",
       "      <td>İngilizce</td>\n",
       "    </tr>\n",
       "    <tr>\n",
       "      <th>norveç</th>\n",
       "      <td>90200</td>\n",
       "      <td>70000</td>\n",
       "      <td>130</td>\n",
       "      <td>Avrupa</td>\n",
       "      <td>Norveçce</td>\n",
       "    </tr>\n",
       "    <tr>\n",
       "      <th>i̇ngiltere</th>\n",
       "      <td>180200</td>\n",
       "      <td>55000</td>\n",
       "      <td>300</td>\n",
       "      <td>Avrupa</td>\n",
       "      <td>İngilizce</td>\n",
       "    </tr>\n",
       "    <tr>\n",
       "      <th>usa</th>\n",
       "      <td>300000</td>\n",
       "      <td>50000</td>\n",
       "      <td>400</td>\n",
       "      <td>Amerika</td>\n",
       "      <td>İngilizce</td>\n",
       "    </tr>\n",
       "  </tbody>\n",
       "</table>\n",
       "</div>"
      ],
      "text/plain": [
       "             Nüfus    GDP  Alan     Kıta        Dil\n",
       "almanya     222320  60000   120   Avrupa    Almanca\n",
       "japonya     430500  45000    60     Asya    Japonca\n",
       "i̇talya     180000  30000    70   Avrupa  İtalyanca\n",
       "kanada      310000  40000   250  Amerika  İngilizce\n",
       "norveç       90200  70000   130   Avrupa   Norveçce\n",
       "i̇ngiltere  180200  55000   300   Avrupa  İngilizce\n",
       "usa         300000  50000   400  Amerika  İngilizce"
      ]
     },
     "execution_count": 86,
     "metadata": {},
     "output_type": "execute_result"
    }
   ],
   "source": [
    "df.rename(index=lambda x: x.lower())"
   ]
  },
  {
   "cell_type": "code",
   "execution_count": 97,
   "metadata": {},
   "outputs": [
    {
     "data": {
      "text/html": [
       "<div>\n",
       "<style scoped>\n",
       "    .dataframe tbody tr th:only-of-type {\n",
       "        vertical-align: middle;\n",
       "    }\n",
       "\n",
       "    .dataframe tbody tr th {\n",
       "        vertical-align: top;\n",
       "    }\n",
       "\n",
       "    .dataframe thead th {\n",
       "        text-align: right;\n",
       "    }\n",
       "</style>\n",
       "<table border=\"1\" class=\"dataframe\">\n",
       "  <thead>\n",
       "    <tr style=\"text-align: right;\">\n",
       "      <th></th>\n",
       "      <th>Nüfus</th>\n",
       "      <th>Alan</th>\n",
       "      <th>Kıta</th>\n",
       "    </tr>\n",
       "  </thead>\n",
       "  <tbody>\n",
       "    <tr>\n",
       "      <th>Almanya</th>\n",
       "      <td>222320</td>\n",
       "      <td>120</td>\n",
       "      <td>Avrupa</td>\n",
       "    </tr>\n",
       "    <tr>\n",
       "      <th>Japonya</th>\n",
       "      <td>430500</td>\n",
       "      <td>60</td>\n",
       "      <td>Asya</td>\n",
       "    </tr>\n",
       "    <tr>\n",
       "      <th>İtalya</th>\n",
       "      <td>180000</td>\n",
       "      <td>70</td>\n",
       "      <td>Avrupa</td>\n",
       "    </tr>\n",
       "    <tr>\n",
       "      <th>Kanada</th>\n",
       "      <td>310000</td>\n",
       "      <td>250</td>\n",
       "      <td>Amerika</td>\n",
       "    </tr>\n",
       "    <tr>\n",
       "      <th>Norveç</th>\n",
       "      <td>90200</td>\n",
       "      <td>130</td>\n",
       "      <td>Avrupa</td>\n",
       "    </tr>\n",
       "    <tr>\n",
       "      <th>İngiltere</th>\n",
       "      <td>180200</td>\n",
       "      <td>300</td>\n",
       "      <td>Avrupa</td>\n",
       "    </tr>\n",
       "    <tr>\n",
       "      <th>USA</th>\n",
       "      <td>300000</td>\n",
       "      <td>400</td>\n",
       "      <td>Amerika</td>\n",
       "    </tr>\n",
       "  </tbody>\n",
       "</table>\n",
       "</div>"
      ],
      "text/plain": [
       "            Nüfus  Alan     Kıta\n",
       "Almanya    222320   120   Avrupa\n",
       "Japonya    430500    60     Asya\n",
       "İtalya     180000    70   Avrupa\n",
       "Kanada     310000   250  Amerika\n",
       "Norveç      90200   130   Avrupa\n",
       "İngiltere  180200   300   Avrupa\n",
       "USA        300000   400  Amerika"
      ]
     },
     "execution_count": 97,
     "metadata": {},
     "output_type": "execute_result"
    }
   ],
   "source": [
    "df.drop(columns=\"GDP\", inplace=False) # inplace True df değişkeninin kendisini değiştirir"
   ]
  },
  {
   "cell_type": "code",
   "execution_count": 99,
   "metadata": {},
   "outputs": [
    {
     "data": {
      "text/html": [
       "<div>\n",
       "<style scoped>\n",
       "    .dataframe tbody tr th:only-of-type {\n",
       "        vertical-align: middle;\n",
       "    }\n",
       "\n",
       "    .dataframe tbody tr th {\n",
       "        vertical-align: top;\n",
       "    }\n",
       "\n",
       "    .dataframe thead th {\n",
       "        text-align: right;\n",
       "    }\n",
       "</style>\n",
       "<table border=\"1\" class=\"dataframe\">\n",
       "  <thead>\n",
       "    <tr style=\"text-align: right;\">\n",
       "      <th></th>\n",
       "      <th>Nüfus</th>\n",
       "      <th>GDP</th>\n",
       "      <th>Alan</th>\n",
       "      <th>Kıta</th>\n",
       "    </tr>\n",
       "  </thead>\n",
       "  <tbody>\n",
       "    <tr>\n",
       "      <th>Almanya</th>\n",
       "      <td>222320.0</td>\n",
       "      <td>60000.0</td>\n",
       "      <td>120.0</td>\n",
       "      <td>Avrupa</td>\n",
       "    </tr>\n",
       "    <tr>\n",
       "      <th>Japonya</th>\n",
       "      <td>430500.0</td>\n",
       "      <td>45000.0</td>\n",
       "      <td>60.0</td>\n",
       "      <td>Asya</td>\n",
       "    </tr>\n",
       "    <tr>\n",
       "      <th>İtalya</th>\n",
       "      <td>180000.0</td>\n",
       "      <td>30000.0</td>\n",
       "      <td>70.0</td>\n",
       "      <td>Avrupa</td>\n",
       "    </tr>\n",
       "    <tr>\n",
       "      <th>Kanada</th>\n",
       "      <td>310000.0</td>\n",
       "      <td>40000.0</td>\n",
       "      <td>250.0</td>\n",
       "      <td>Amerika</td>\n",
       "    </tr>\n",
       "    <tr>\n",
       "      <th>Norveç</th>\n",
       "      <td>90200.0</td>\n",
       "      <td>70000.0</td>\n",
       "      <td>130.0</td>\n",
       "      <td>Avrupa</td>\n",
       "    </tr>\n",
       "    <tr>\n",
       "      <th>İngiltere</th>\n",
       "      <td>180200.0</td>\n",
       "      <td>55000.0</td>\n",
       "      <td>300.0</td>\n",
       "      <td>Avrupa</td>\n",
       "    </tr>\n",
       "    <tr>\n",
       "      <th>USA</th>\n",
       "      <td>300000.0</td>\n",
       "      <td>50000.0</td>\n",
       "      <td>400.0</td>\n",
       "      <td>Amerika</td>\n",
       "    </tr>\n",
       "    <tr>\n",
       "      <th>Çin</th>\n",
       "      <td>10.0</td>\n",
       "      <td>5.0</td>\n",
       "      <td>NaN</td>\n",
       "      <td>NaN</td>\n",
       "    </tr>\n",
       "  </tbody>\n",
       "</table>\n",
       "</div>"
      ],
      "text/plain": [
       "              Nüfus      GDP   Alan     Kıta\n",
       "Almanya    222320.0  60000.0  120.0   Avrupa\n",
       "Japonya    430500.0  45000.0   60.0     Asya\n",
       "İtalya     180000.0  30000.0   70.0   Avrupa\n",
       "Kanada     310000.0  40000.0  250.0  Amerika\n",
       "Norveç      90200.0  70000.0  130.0   Avrupa\n",
       "İngiltere  180200.0  55000.0  300.0   Avrupa\n",
       "USA        300000.0  50000.0  400.0  Amerika\n",
       "Çin            10.0      5.0    NaN      NaN"
      ]
     },
     "execution_count": 99,
     "metadata": {},
     "output_type": "execute_result"
    }
   ],
   "source": [
    "df2 = df.append(\n",
    "    pd.Series(\n",
    "        {\n",
    "            \"Nüfus\" : 10,\n",
    "            \"GDP\": 5\n",
    "        }, name=\"Çin\"\n",
    "    )\n",
    ")\n",
    "df2"
   ]
  },
  {
   "cell_type": "code",
   "execution_count": 100,
   "metadata": {},
   "outputs": [
    {
     "data": {
      "text/html": [
       "<div>\n",
       "<style scoped>\n",
       "    .dataframe tbody tr th:only-of-type {\n",
       "        vertical-align: middle;\n",
       "    }\n",
       "\n",
       "    .dataframe tbody tr th {\n",
       "        vertical-align: top;\n",
       "    }\n",
       "\n",
       "    .dataframe thead th {\n",
       "        text-align: right;\n",
       "    }\n",
       "</style>\n",
       "<table border=\"1\" class=\"dataframe\">\n",
       "  <thead>\n",
       "    <tr style=\"text-align: right;\">\n",
       "      <th></th>\n",
       "      <th>Nüfus</th>\n",
       "      <th>GDP</th>\n",
       "      <th>Alan</th>\n",
       "      <th>Kıta</th>\n",
       "    </tr>\n",
       "  </thead>\n",
       "  <tbody>\n",
       "    <tr>\n",
       "      <th>Almanya</th>\n",
       "      <td>222320.0</td>\n",
       "      <td>60000.0</td>\n",
       "      <td>120.0</td>\n",
       "      <td>Avrupa</td>\n",
       "    </tr>\n",
       "    <tr>\n",
       "      <th>Japonya</th>\n",
       "      <td>430500.0</td>\n",
       "      <td>45000.0</td>\n",
       "      <td>60.0</td>\n",
       "      <td>Asya</td>\n",
       "    </tr>\n",
       "    <tr>\n",
       "      <th>İtalya</th>\n",
       "      <td>180000.0</td>\n",
       "      <td>30000.0</td>\n",
       "      <td>70.0</td>\n",
       "      <td>Avrupa</td>\n",
       "    </tr>\n",
       "    <tr>\n",
       "      <th>Kanada</th>\n",
       "      <td>310000.0</td>\n",
       "      <td>40000.0</td>\n",
       "      <td>250.0</td>\n",
       "      <td>Amerika</td>\n",
       "    </tr>\n",
       "    <tr>\n",
       "      <th>Norveç</th>\n",
       "      <td>90200.0</td>\n",
       "      <td>70000.0</td>\n",
       "      <td>130.0</td>\n",
       "      <td>Avrupa</td>\n",
       "    </tr>\n",
       "    <tr>\n",
       "      <th>İngiltere</th>\n",
       "      <td>180200.0</td>\n",
       "      <td>55000.0</td>\n",
       "      <td>300.0</td>\n",
       "      <td>Avrupa</td>\n",
       "    </tr>\n",
       "    <tr>\n",
       "      <th>USA</th>\n",
       "      <td>300000.0</td>\n",
       "      <td>50000.0</td>\n",
       "      <td>400.0</td>\n",
       "      <td>Amerika</td>\n",
       "    </tr>\n",
       "    <tr>\n",
       "      <th>Çin</th>\n",
       "      <td>10.0</td>\n",
       "      <td>5.0</td>\n",
       "      <td>NaN</td>\n",
       "      <td>NaN</td>\n",
       "    </tr>\n",
       "  </tbody>\n",
       "</table>\n",
       "</div>"
      ],
      "text/plain": [
       "              Nüfus      GDP   Alan     Kıta\n",
       "Almanya    222320.0  60000.0  120.0   Avrupa\n",
       "Japonya    430500.0  45000.0   60.0     Asya\n",
       "İtalya     180000.0  30000.0   70.0   Avrupa\n",
       "Kanada     310000.0  40000.0  250.0  Amerika\n",
       "Norveç      90200.0  70000.0  130.0   Avrupa\n",
       "İngiltere  180200.0  55000.0  300.0   Avrupa\n",
       "USA        300000.0  50000.0  400.0  Amerika\n",
       "Çin            10.0      5.0    NaN      NaN"
      ]
     },
     "execution_count": 100,
     "metadata": {},
     "output_type": "execute_result"
    }
   ],
   "source": [
    "df.loc[\"Çin\"] = pd.Series(\n",
    "        {\n",
    "            \"Nüfus\" : 10,\n",
    "            \"GDP\": 5\n",
    "        }, name=\"Çin\"\n",
    "    )\n",
    "df"
   ]
  },
  {
   "cell_type": "code",
   "execution_count": 101,
   "metadata": {},
   "outputs": [
    {
     "data": {
      "text/html": [
       "<div>\n",
       "<style scoped>\n",
       "    .dataframe tbody tr th:only-of-type {\n",
       "        vertical-align: middle;\n",
       "    }\n",
       "\n",
       "    .dataframe tbody tr th {\n",
       "        vertical-align: top;\n",
       "    }\n",
       "\n",
       "    .dataframe thead th {\n",
       "        text-align: right;\n",
       "    }\n",
       "</style>\n",
       "<table border=\"1\" class=\"dataframe\">\n",
       "  <thead>\n",
       "    <tr style=\"text-align: right;\">\n",
       "      <th></th>\n",
       "      <th>index</th>\n",
       "      <th>Nüfus</th>\n",
       "      <th>GDP</th>\n",
       "      <th>Alan</th>\n",
       "      <th>Kıta</th>\n",
       "    </tr>\n",
       "  </thead>\n",
       "  <tbody>\n",
       "    <tr>\n",
       "      <th>0</th>\n",
       "      <td>Almanya</td>\n",
       "      <td>222320.0</td>\n",
       "      <td>60000.0</td>\n",
       "      <td>120.0</td>\n",
       "      <td>Avrupa</td>\n",
       "    </tr>\n",
       "    <tr>\n",
       "      <th>1</th>\n",
       "      <td>Japonya</td>\n",
       "      <td>430500.0</td>\n",
       "      <td>45000.0</td>\n",
       "      <td>60.0</td>\n",
       "      <td>Asya</td>\n",
       "    </tr>\n",
       "    <tr>\n",
       "      <th>2</th>\n",
       "      <td>İtalya</td>\n",
       "      <td>180000.0</td>\n",
       "      <td>30000.0</td>\n",
       "      <td>70.0</td>\n",
       "      <td>Avrupa</td>\n",
       "    </tr>\n",
       "    <tr>\n",
       "      <th>3</th>\n",
       "      <td>Kanada</td>\n",
       "      <td>310000.0</td>\n",
       "      <td>40000.0</td>\n",
       "      <td>250.0</td>\n",
       "      <td>Amerika</td>\n",
       "    </tr>\n",
       "    <tr>\n",
       "      <th>4</th>\n",
       "      <td>Norveç</td>\n",
       "      <td>90200.0</td>\n",
       "      <td>70000.0</td>\n",
       "      <td>130.0</td>\n",
       "      <td>Avrupa</td>\n",
       "    </tr>\n",
       "    <tr>\n",
       "      <th>5</th>\n",
       "      <td>İngiltere</td>\n",
       "      <td>180200.0</td>\n",
       "      <td>55000.0</td>\n",
       "      <td>300.0</td>\n",
       "      <td>Avrupa</td>\n",
       "    </tr>\n",
       "    <tr>\n",
       "      <th>6</th>\n",
       "      <td>USA</td>\n",
       "      <td>300000.0</td>\n",
       "      <td>50000.0</td>\n",
       "      <td>400.0</td>\n",
       "      <td>Amerika</td>\n",
       "    </tr>\n",
       "    <tr>\n",
       "      <th>7</th>\n",
       "      <td>Çin</td>\n",
       "      <td>10.0</td>\n",
       "      <td>5.0</td>\n",
       "      <td>NaN</td>\n",
       "      <td>NaN</td>\n",
       "    </tr>\n",
       "  </tbody>\n",
       "</table>\n",
       "</div>"
      ],
      "text/plain": [
       "       index     Nüfus      GDP   Alan     Kıta\n",
       "0    Almanya  222320.0  60000.0  120.0   Avrupa\n",
       "1    Japonya  430500.0  45000.0   60.0     Asya\n",
       "2     İtalya  180000.0  30000.0   70.0   Avrupa\n",
       "3     Kanada  310000.0  40000.0  250.0  Amerika\n",
       "4     Norveç   90200.0  70000.0  130.0   Avrupa\n",
       "5  İngiltere  180200.0  55000.0  300.0   Avrupa\n",
       "6        USA  300000.0  50000.0  400.0  Amerika\n",
       "7        Çin      10.0      5.0    NaN      NaN"
      ]
     },
     "execution_count": 101,
     "metadata": {},
     "output_type": "execute_result"
    }
   ],
   "source": [
    "df.reset_index()"
   ]
  },
  {
   "cell_type": "code",
   "execution_count": 102,
   "metadata": {},
   "outputs": [
    {
     "data": {
      "text/html": [
       "<div>\n",
       "<style scoped>\n",
       "    .dataframe tbody tr th:only-of-type {\n",
       "        vertical-align: middle;\n",
       "    }\n",
       "\n",
       "    .dataframe tbody tr th {\n",
       "        vertical-align: top;\n",
       "    }\n",
       "\n",
       "    .dataframe thead th {\n",
       "        text-align: right;\n",
       "    }\n",
       "</style>\n",
       "<table border=\"1\" class=\"dataframe\">\n",
       "  <thead>\n",
       "    <tr style=\"text-align: right;\">\n",
       "      <th></th>\n",
       "      <th>GDP</th>\n",
       "      <th>Alan</th>\n",
       "      <th>Kıta</th>\n",
       "    </tr>\n",
       "    <tr>\n",
       "      <th>Nüfus</th>\n",
       "      <th></th>\n",
       "      <th></th>\n",
       "      <th></th>\n",
       "    </tr>\n",
       "  </thead>\n",
       "  <tbody>\n",
       "    <tr>\n",
       "      <th>222320.0</th>\n",
       "      <td>60000.0</td>\n",
       "      <td>120.0</td>\n",
       "      <td>Avrupa</td>\n",
       "    </tr>\n",
       "    <tr>\n",
       "      <th>430500.0</th>\n",
       "      <td>45000.0</td>\n",
       "      <td>60.0</td>\n",
       "      <td>Asya</td>\n",
       "    </tr>\n",
       "    <tr>\n",
       "      <th>180000.0</th>\n",
       "      <td>30000.0</td>\n",
       "      <td>70.0</td>\n",
       "      <td>Avrupa</td>\n",
       "    </tr>\n",
       "    <tr>\n",
       "      <th>310000.0</th>\n",
       "      <td>40000.0</td>\n",
       "      <td>250.0</td>\n",
       "      <td>Amerika</td>\n",
       "    </tr>\n",
       "    <tr>\n",
       "      <th>90200.0</th>\n",
       "      <td>70000.0</td>\n",
       "      <td>130.0</td>\n",
       "      <td>Avrupa</td>\n",
       "    </tr>\n",
       "    <tr>\n",
       "      <th>180200.0</th>\n",
       "      <td>55000.0</td>\n",
       "      <td>300.0</td>\n",
       "      <td>Avrupa</td>\n",
       "    </tr>\n",
       "    <tr>\n",
       "      <th>300000.0</th>\n",
       "      <td>50000.0</td>\n",
       "      <td>400.0</td>\n",
       "      <td>Amerika</td>\n",
       "    </tr>\n",
       "    <tr>\n",
       "      <th>10.0</th>\n",
       "      <td>5.0</td>\n",
       "      <td>NaN</td>\n",
       "      <td>NaN</td>\n",
       "    </tr>\n",
       "  </tbody>\n",
       "</table>\n",
       "</div>"
      ],
      "text/plain": [
       "              GDP   Alan     Kıta\n",
       "Nüfus                            \n",
       "222320.0  60000.0  120.0   Avrupa\n",
       "430500.0  45000.0   60.0     Asya\n",
       "180000.0  30000.0   70.0   Avrupa\n",
       "310000.0  40000.0  250.0  Amerika\n",
       "90200.0   70000.0  130.0   Avrupa\n",
       "180200.0  55000.0  300.0   Avrupa\n",
       "300000.0  50000.0  400.0  Amerika\n",
       "10.0          5.0    NaN      NaN"
      ]
     },
     "execution_count": 102,
     "metadata": {},
     "output_type": "execute_result"
    }
   ],
   "source": [
    "df.set_index(\"Nüfus\")"
   ]
  },
  {
   "cell_type": "markdown",
   "metadata": {},
   "source": [
    "### Sütunlardan yeni sütun oluşturma"
   ]
  },
  {
   "cell_type": "code",
   "execution_count": 107,
   "metadata": {},
   "outputs": [
    {
     "data": {
      "text/html": [
       "<div>\n",
       "<style scoped>\n",
       "    .dataframe tbody tr th:only-of-type {\n",
       "        vertical-align: middle;\n",
       "    }\n",
       "\n",
       "    .dataframe tbody tr th {\n",
       "        vertical-align: top;\n",
       "    }\n",
       "\n",
       "    .dataframe thead th {\n",
       "        text-align: right;\n",
       "    }\n",
       "</style>\n",
       "<table border=\"1\" class=\"dataframe\">\n",
       "  <thead>\n",
       "    <tr style=\"text-align: right;\">\n",
       "      <th></th>\n",
       "      <th>Nüfus</th>\n",
       "      <th>GDP</th>\n",
       "      <th>Alan</th>\n",
       "      <th>Kıta</th>\n",
       "      <th>Kişi başına GDP</th>\n",
       "    </tr>\n",
       "  </thead>\n",
       "  <tbody>\n",
       "    <tr>\n",
       "      <th>Almanya</th>\n",
       "      <td>222320</td>\n",
       "      <td>60000</td>\n",
       "      <td>120</td>\n",
       "      <td>Avrupa</td>\n",
       "      <td>0.269881</td>\n",
       "    </tr>\n",
       "    <tr>\n",
       "      <th>Japonya</th>\n",
       "      <td>430500</td>\n",
       "      <td>45000</td>\n",
       "      <td>60</td>\n",
       "      <td>Asya</td>\n",
       "      <td>0.104530</td>\n",
       "    </tr>\n",
       "    <tr>\n",
       "      <th>İtalya</th>\n",
       "      <td>180000</td>\n",
       "      <td>30000</td>\n",
       "      <td>70</td>\n",
       "      <td>Avrupa</td>\n",
       "      <td>0.166667</td>\n",
       "    </tr>\n",
       "    <tr>\n",
       "      <th>Kanada</th>\n",
       "      <td>310000</td>\n",
       "      <td>40000</td>\n",
       "      <td>250</td>\n",
       "      <td>Amerika</td>\n",
       "      <td>0.129032</td>\n",
       "    </tr>\n",
       "    <tr>\n",
       "      <th>Norveç</th>\n",
       "      <td>90200</td>\n",
       "      <td>70000</td>\n",
       "      <td>130</td>\n",
       "      <td>Avrupa</td>\n",
       "      <td>0.776053</td>\n",
       "    </tr>\n",
       "    <tr>\n",
       "      <th>İngiltere</th>\n",
       "      <td>180200</td>\n",
       "      <td>55000</td>\n",
       "      <td>300</td>\n",
       "      <td>Avrupa</td>\n",
       "      <td>0.305216</td>\n",
       "    </tr>\n",
       "    <tr>\n",
       "      <th>USA</th>\n",
       "      <td>300000</td>\n",
       "      <td>50000</td>\n",
       "      <td>400</td>\n",
       "      <td>Amerika</td>\n",
       "      <td>0.166667</td>\n",
       "    </tr>\n",
       "  </tbody>\n",
       "</table>\n",
       "</div>"
      ],
      "text/plain": [
       "            Nüfus    GDP  Alan     Kıta  Kişi başına GDP\n",
       "Almanya    222320  60000   120   Avrupa         0.269881\n",
       "Japonya    430500  45000    60     Asya         0.104530\n",
       "İtalya     180000  30000    70   Avrupa         0.166667\n",
       "Kanada     310000  40000   250  Amerika         0.129032\n",
       "Norveç      90200  70000   130   Avrupa         0.776053\n",
       "İngiltere  180200  55000   300   Avrupa         0.305216\n",
       "USA        300000  50000   400  Amerika         0.166667"
      ]
     },
     "execution_count": 107,
     "metadata": {},
     "output_type": "execute_result"
    }
   ],
   "source": [
    "df[\"Kişi başına GDP\"] = df[\"GDP\"] / df[\"Nüfus\"]\n",
    "df"
   ]
  },
  {
   "cell_type": "markdown",
   "metadata": {},
   "source": [
    "### istatistiksel bilgiler"
   ]
  },
  {
   "cell_type": "code",
   "execution_count": 108,
   "metadata": {},
   "outputs": [
    {
     "data": {
      "text/html": [
       "<div>\n",
       "<style scoped>\n",
       "    .dataframe tbody tr th:only-of-type {\n",
       "        vertical-align: middle;\n",
       "    }\n",
       "\n",
       "    .dataframe tbody tr th {\n",
       "        vertical-align: top;\n",
       "    }\n",
       "\n",
       "    .dataframe thead th {\n",
       "        text-align: right;\n",
       "    }\n",
       "</style>\n",
       "<table border=\"1\" class=\"dataframe\">\n",
       "  <thead>\n",
       "    <tr style=\"text-align: right;\">\n",
       "      <th></th>\n",
       "      <th>Nüfus</th>\n",
       "      <th>GDP</th>\n",
       "      <th>Alan</th>\n",
       "      <th>Kıta</th>\n",
       "      <th>Kişi başına GDP</th>\n",
       "    </tr>\n",
       "  </thead>\n",
       "  <tbody>\n",
       "    <tr>\n",
       "      <th>Almanya</th>\n",
       "      <td>222320</td>\n",
       "      <td>60000</td>\n",
       "      <td>120</td>\n",
       "      <td>Avrupa</td>\n",
       "      <td>0.269881</td>\n",
       "    </tr>\n",
       "    <tr>\n",
       "      <th>Japonya</th>\n",
       "      <td>430500</td>\n",
       "      <td>45000</td>\n",
       "      <td>60</td>\n",
       "      <td>Asya</td>\n",
       "      <td>0.104530</td>\n",
       "    </tr>\n",
       "    <tr>\n",
       "      <th>İtalya</th>\n",
       "      <td>180000</td>\n",
       "      <td>30000</td>\n",
       "      <td>70</td>\n",
       "      <td>Avrupa</td>\n",
       "      <td>0.166667</td>\n",
       "    </tr>\n",
       "    <tr>\n",
       "      <th>Kanada</th>\n",
       "      <td>310000</td>\n",
       "      <td>40000</td>\n",
       "      <td>250</td>\n",
       "      <td>Amerika</td>\n",
       "      <td>0.129032</td>\n",
       "    </tr>\n",
       "    <tr>\n",
       "      <th>Norveç</th>\n",
       "      <td>90200</td>\n",
       "      <td>70000</td>\n",
       "      <td>130</td>\n",
       "      <td>Avrupa</td>\n",
       "      <td>0.776053</td>\n",
       "    </tr>\n",
       "  </tbody>\n",
       "</table>\n",
       "</div>"
      ],
      "text/plain": [
       "          Nüfus    GDP  Alan     Kıta  Kişi başına GDP\n",
       "Almanya  222320  60000   120   Avrupa         0.269881\n",
       "Japonya  430500  45000    60     Asya         0.104530\n",
       "İtalya   180000  30000    70   Avrupa         0.166667\n",
       "Kanada   310000  40000   250  Amerika         0.129032\n",
       "Norveç    90200  70000   130   Avrupa         0.776053"
      ]
     },
     "execution_count": 108,
     "metadata": {},
     "output_type": "execute_result"
    }
   ],
   "source": [
    "df.head()"
   ]
  },
  {
   "cell_type": "code",
   "execution_count": 109,
   "metadata": {},
   "outputs": [
    {
     "data": {
      "text/html": [
       "<div>\n",
       "<style scoped>\n",
       "    .dataframe tbody tr th:only-of-type {\n",
       "        vertical-align: middle;\n",
       "    }\n",
       "\n",
       "    .dataframe tbody tr th {\n",
       "        vertical-align: top;\n",
       "    }\n",
       "\n",
       "    .dataframe thead th {\n",
       "        text-align: right;\n",
       "    }\n",
       "</style>\n",
       "<table border=\"1\" class=\"dataframe\">\n",
       "  <thead>\n",
       "    <tr style=\"text-align: right;\">\n",
       "      <th></th>\n",
       "      <th>Nüfus</th>\n",
       "      <th>GDP</th>\n",
       "      <th>Alan</th>\n",
       "      <th>Kişi başına GDP</th>\n",
       "    </tr>\n",
       "  </thead>\n",
       "  <tbody>\n",
       "    <tr>\n",
       "      <th>count</th>\n",
       "      <td>7.000000</td>\n",
       "      <td>7.000000</td>\n",
       "      <td>7.000000</td>\n",
       "      <td>7.000000</td>\n",
       "    </tr>\n",
       "    <tr>\n",
       "      <th>mean</th>\n",
       "      <td>244745.714286</td>\n",
       "      <td>50000.000000</td>\n",
       "      <td>190.000000</td>\n",
       "      <td>0.274007</td>\n",
       "    </tr>\n",
       "    <tr>\n",
       "      <th>std</th>\n",
       "      <td>111475.901560</td>\n",
       "      <td>13228.756555</td>\n",
       "      <td>128.840987</td>\n",
       "      <td>0.233033</td>\n",
       "    </tr>\n",
       "    <tr>\n",
       "      <th>min</th>\n",
       "      <td>90200.000000</td>\n",
       "      <td>30000.000000</td>\n",
       "      <td>60.000000</td>\n",
       "      <td>0.104530</td>\n",
       "    </tr>\n",
       "    <tr>\n",
       "      <th>25%</th>\n",
       "      <td>180100.000000</td>\n",
       "      <td>42500.000000</td>\n",
       "      <td>95.000000</td>\n",
       "      <td>0.147849</td>\n",
       "    </tr>\n",
       "    <tr>\n",
       "      <th>50%</th>\n",
       "      <td>222320.000000</td>\n",
       "      <td>50000.000000</td>\n",
       "      <td>130.000000</td>\n",
       "      <td>0.166667</td>\n",
       "    </tr>\n",
       "    <tr>\n",
       "      <th>75%</th>\n",
       "      <td>305000.000000</td>\n",
       "      <td>57500.000000</td>\n",
       "      <td>275.000000</td>\n",
       "      <td>0.287549</td>\n",
       "    </tr>\n",
       "    <tr>\n",
       "      <th>max</th>\n",
       "      <td>430500.000000</td>\n",
       "      <td>70000.000000</td>\n",
       "      <td>400.000000</td>\n",
       "      <td>0.776053</td>\n",
       "    </tr>\n",
       "  </tbody>\n",
       "</table>\n",
       "</div>"
      ],
      "text/plain": [
       "               Nüfus           GDP        Alan  Kişi başına GDP\n",
       "count       7.000000      7.000000    7.000000         7.000000\n",
       "mean   244745.714286  50000.000000  190.000000         0.274007\n",
       "std    111475.901560  13228.756555  128.840987         0.233033\n",
       "min     90200.000000  30000.000000   60.000000         0.104530\n",
       "25%    180100.000000  42500.000000   95.000000         0.147849\n",
       "50%    222320.000000  50000.000000  130.000000         0.166667\n",
       "75%    305000.000000  57500.000000  275.000000         0.287549\n",
       "max    430500.000000  70000.000000  400.000000         0.776053"
      ]
     },
     "execution_count": 109,
     "metadata": {},
     "output_type": "execute_result"
    }
   ],
   "source": [
    "df.describe()"
   ]
  },
  {
   "cell_type": "code",
   "execution_count": 110,
   "metadata": {},
   "outputs": [],
   "source": [
    "gdp = df[\"GDP\"]"
   ]
  },
  {
   "cell_type": "code",
   "execution_count": 113,
   "metadata": {},
   "outputs": [
    {
     "data": {
      "text/plain": [
       "(30000, 350000, 50000.0, 13228.756555322952, 50000.0)"
      ]
     },
     "execution_count": 113,
     "metadata": {},
     "output_type": "execute_result"
    }
   ],
   "source": [
    "gdp.min(), gdp.sum(), gdp.mean(), gdp.std(), gdp.median()"
   ]
  },
  {
   "cell_type": "code",
   "execution_count": 115,
   "metadata": {},
   "outputs": [
    {
     "data": {
      "text/plain": [
       "count        7.000000\n",
       "mean     50000.000000\n",
       "std      13228.756555\n",
       "min      30000.000000\n",
       "25%      42500.000000\n",
       "50%      50000.000000\n",
       "75%      57500.000000\n",
       "max      70000.000000\n",
       "Name: GDP, dtype: float64"
      ]
     },
     "execution_count": 115,
     "metadata": {},
     "output_type": "execute_result"
    }
   ],
   "source": [
    "gdp.describe()"
   ]
  },
  {
   "cell_type": "code",
   "execution_count": 121,
   "metadata": {},
   "outputs": [
    {
     "data": {
      "text/plain": [
       "50000.0"
      ]
     },
     "execution_count": 121,
     "metadata": {},
     "output_type": "execute_result"
    }
   ],
   "source": [
    "gdp.quantile(0.5)"
   ]
  },
  {
   "cell_type": "code",
   "execution_count": 122,
   "metadata": {},
   "outputs": [
    {
     "data": {
      "text/plain": [
       "0.0    30000.0\n",
       "0.2    41000.0\n",
       "0.4    47000.0\n",
       "0.6    53000.0\n",
       "1.0    70000.0\n",
       "Name: GDP, dtype: float64"
      ]
     },
     "execution_count": 122,
     "metadata": {},
     "output_type": "execute_result"
    }
   ],
   "source": [
    "gdp.quantile([0, 0.2, 0.4, 0.6, 1])"
   ]
  },
  {
   "cell_type": "markdown",
   "metadata": {},
   "source": [
    "## Harici datayı okuma ve yazma & plot etme"
   ]
  },
  {
   "cell_type": "code",
   "execution_count": 9,
   "metadata": {},
   "outputs": [],
   "source": [
    "import matplotlib.pyplot as plt\n",
    "%matplotlib inline"
   ]
  },
  {
   "cell_type": "code",
   "execution_count": 11,
   "metadata": {},
   "outputs": [
    {
     "data": {
      "text/plain": [
       "\u001b[1;31mSignature:\u001b[0m \u001b[0mpd\u001b[0m\u001b[1;33m.\u001b[0m\u001b[0mread_csv\u001b[0m\u001b[1;33m(\u001b[0m\u001b[0mfilepath_or_buffer\u001b[0m\u001b[1;33m:\u001b[0m \u001b[0mUnion\u001b[0m\u001b[1;33m[\u001b[0m\u001b[0mstr\u001b[0m\u001b[1;33m,\u001b[0m \u001b[0mpathlib\u001b[0m\u001b[1;33m.\u001b[0m\u001b[0mPath\u001b[0m\u001b[1;33m,\u001b[0m \u001b[0mIO\u001b[0m\u001b[1;33m[\u001b[0m\u001b[1;33m~\u001b[0m\u001b[0mAnyStr\u001b[0m\u001b[1;33m]\u001b[0m\u001b[1;33m]\u001b[0m\u001b[1;33m,\u001b[0m \u001b[0msep\u001b[0m\u001b[1;33m=\u001b[0m\u001b[1;34m','\u001b[0m\u001b[1;33m,\u001b[0m \u001b[0mdelimiter\u001b[0m\u001b[1;33m=\u001b[0m\u001b[1;32mNone\u001b[0m\u001b[1;33m,\u001b[0m \u001b[0mheader\u001b[0m\u001b[1;33m=\u001b[0m\u001b[1;34m'infer'\u001b[0m\u001b[1;33m,\u001b[0m \u001b[0mnames\u001b[0m\u001b[1;33m=\u001b[0m\u001b[1;32mNone\u001b[0m\u001b[1;33m,\u001b[0m \u001b[0mindex_col\u001b[0m\u001b[1;33m=\u001b[0m\u001b[1;32mNone\u001b[0m\u001b[1;33m,\u001b[0m \u001b[0musecols\u001b[0m\u001b[1;33m=\u001b[0m\u001b[1;32mNone\u001b[0m\u001b[1;33m,\u001b[0m \u001b[0msqueeze\u001b[0m\u001b[1;33m=\u001b[0m\u001b[1;32mFalse\u001b[0m\u001b[1;33m,\u001b[0m \u001b[0mprefix\u001b[0m\u001b[1;33m=\u001b[0m\u001b[1;32mNone\u001b[0m\u001b[1;33m,\u001b[0m \u001b[0mmangle_dupe_cols\u001b[0m\u001b[1;33m=\u001b[0m\u001b[1;32mTrue\u001b[0m\u001b[1;33m,\u001b[0m \u001b[0mdtype\u001b[0m\u001b[1;33m=\u001b[0m\u001b[1;32mNone\u001b[0m\u001b[1;33m,\u001b[0m \u001b[0mengine\u001b[0m\u001b[1;33m=\u001b[0m\u001b[1;32mNone\u001b[0m\u001b[1;33m,\u001b[0m \u001b[0mconverters\u001b[0m\u001b[1;33m=\u001b[0m\u001b[1;32mNone\u001b[0m\u001b[1;33m,\u001b[0m \u001b[0mtrue_values\u001b[0m\u001b[1;33m=\u001b[0m\u001b[1;32mNone\u001b[0m\u001b[1;33m,\u001b[0m \u001b[0mfalse_values\u001b[0m\u001b[1;33m=\u001b[0m\u001b[1;32mNone\u001b[0m\u001b[1;33m,\u001b[0m \u001b[0mskipinitialspace\u001b[0m\u001b[1;33m=\u001b[0m\u001b[1;32mFalse\u001b[0m\u001b[1;33m,\u001b[0m \u001b[0mskiprows\u001b[0m\u001b[1;33m=\u001b[0m\u001b[1;32mNone\u001b[0m\u001b[1;33m,\u001b[0m \u001b[0mskipfooter\u001b[0m\u001b[1;33m=\u001b[0m\u001b[1;36m0\u001b[0m\u001b[1;33m,\u001b[0m \u001b[0mnrows\u001b[0m\u001b[1;33m=\u001b[0m\u001b[1;32mNone\u001b[0m\u001b[1;33m,\u001b[0m \u001b[0mna_values\u001b[0m\u001b[1;33m=\u001b[0m\u001b[1;32mNone\u001b[0m\u001b[1;33m,\u001b[0m \u001b[0mkeep_default_na\u001b[0m\u001b[1;33m=\u001b[0m\u001b[1;32mTrue\u001b[0m\u001b[1;33m,\u001b[0m \u001b[0mna_filter\u001b[0m\u001b[1;33m=\u001b[0m\u001b[1;32mTrue\u001b[0m\u001b[1;33m,\u001b[0m \u001b[0mverbose\u001b[0m\u001b[1;33m=\u001b[0m\u001b[1;32mFalse\u001b[0m\u001b[1;33m,\u001b[0m \u001b[0mskip_blank_lines\u001b[0m\u001b[1;33m=\u001b[0m\u001b[1;32mTrue\u001b[0m\u001b[1;33m,\u001b[0m \u001b[0mparse_dates\u001b[0m\u001b[1;33m=\u001b[0m\u001b[1;32mFalse\u001b[0m\u001b[1;33m,\u001b[0m \u001b[0minfer_datetime_format\u001b[0m\u001b[1;33m=\u001b[0m\u001b[1;32mFalse\u001b[0m\u001b[1;33m,\u001b[0m \u001b[0mkeep_date_col\u001b[0m\u001b[1;33m=\u001b[0m\u001b[1;32mFalse\u001b[0m\u001b[1;33m,\u001b[0m \u001b[0mdate_parser\u001b[0m\u001b[1;33m=\u001b[0m\u001b[1;32mNone\u001b[0m\u001b[1;33m,\u001b[0m \u001b[0mdayfirst\u001b[0m\u001b[1;33m=\u001b[0m\u001b[1;32mFalse\u001b[0m\u001b[1;33m,\u001b[0m \u001b[0mcache_dates\u001b[0m\u001b[1;33m=\u001b[0m\u001b[1;32mTrue\u001b[0m\u001b[1;33m,\u001b[0m \u001b[0miterator\u001b[0m\u001b[1;33m=\u001b[0m\u001b[1;32mFalse\u001b[0m\u001b[1;33m,\u001b[0m \u001b[0mchunksize\u001b[0m\u001b[1;33m=\u001b[0m\u001b[1;32mNone\u001b[0m\u001b[1;33m,\u001b[0m \u001b[0mcompression\u001b[0m\u001b[1;33m=\u001b[0m\u001b[1;34m'infer'\u001b[0m\u001b[1;33m,\u001b[0m \u001b[0mthousands\u001b[0m\u001b[1;33m=\u001b[0m\u001b[1;32mNone\u001b[0m\u001b[1;33m,\u001b[0m \u001b[0mdecimal\u001b[0m\u001b[1;33m:\u001b[0m \u001b[0mstr\u001b[0m \u001b[1;33m=\u001b[0m \u001b[1;34m'.'\u001b[0m\u001b[1;33m,\u001b[0m \u001b[0mlineterminator\u001b[0m\u001b[1;33m=\u001b[0m\u001b[1;32mNone\u001b[0m\u001b[1;33m,\u001b[0m \u001b[0mquotechar\u001b[0m\u001b[1;33m=\u001b[0m\u001b[1;34m'\"'\u001b[0m\u001b[1;33m,\u001b[0m \u001b[0mquoting\u001b[0m\u001b[1;33m=\u001b[0m\u001b[1;36m0\u001b[0m\u001b[1;33m,\u001b[0m \u001b[0mdoublequote\u001b[0m\u001b[1;33m=\u001b[0m\u001b[1;32mTrue\u001b[0m\u001b[1;33m,\u001b[0m \u001b[0mescapechar\u001b[0m\u001b[1;33m=\u001b[0m\u001b[1;32mNone\u001b[0m\u001b[1;33m,\u001b[0m \u001b[0mcomment\u001b[0m\u001b[1;33m=\u001b[0m\u001b[1;32mNone\u001b[0m\u001b[1;33m,\u001b[0m \u001b[0mencoding\u001b[0m\u001b[1;33m=\u001b[0m\u001b[1;32mNone\u001b[0m\u001b[1;33m,\u001b[0m \u001b[0mdialect\u001b[0m\u001b[1;33m=\u001b[0m\u001b[1;32mNone\u001b[0m\u001b[1;33m,\u001b[0m \u001b[0merror_bad_lines\u001b[0m\u001b[1;33m=\u001b[0m\u001b[1;32mTrue\u001b[0m\u001b[1;33m,\u001b[0m \u001b[0mwarn_bad_lines\u001b[0m\u001b[1;33m=\u001b[0m\u001b[1;32mTrue\u001b[0m\u001b[1;33m,\u001b[0m \u001b[0mdelim_whitespace\u001b[0m\u001b[1;33m=\u001b[0m\u001b[1;32mFalse\u001b[0m\u001b[1;33m,\u001b[0m \u001b[0mlow_memory\u001b[0m\u001b[1;33m=\u001b[0m\u001b[1;32mTrue\u001b[0m\u001b[1;33m,\u001b[0m \u001b[0mmemory_map\u001b[0m\u001b[1;33m=\u001b[0m\u001b[1;32mFalse\u001b[0m\u001b[1;33m,\u001b[0m \u001b[0mfloat_precision\u001b[0m\u001b[1;33m=\u001b[0m\u001b[1;32mNone\u001b[0m\u001b[1;33m)\u001b[0m\u001b[1;33m\u001b[0m\u001b[1;33m\u001b[0m\u001b[0m\n",
       "\u001b[1;31mDocstring:\u001b[0m\n",
       "Read a comma-separated values (csv) file into DataFrame.\n",
       "\n",
       "Also supports optionally iterating or breaking of the file\n",
       "into chunks.\n",
       "\n",
       "Additional help can be found in the online docs for\n",
       "`IO Tools <https://pandas.pydata.org/pandas-docs/stable/user_guide/io.html>`_.\n",
       "\n",
       "Parameters\n",
       "----------\n",
       "filepath_or_buffer : str, path object or file-like object\n",
       "    Any valid string path is acceptable. The string could be a URL. Valid\n",
       "    URL schemes include http, ftp, s3, gs, and file. For file URLs, a host is\n",
       "    expected. A local file could be: file://localhost/path/to/table.csv.\n",
       "\n",
       "    If you want to pass in a path object, pandas accepts any ``os.PathLike``.\n",
       "\n",
       "    By file-like object, we refer to objects with a ``read()`` method, such as\n",
       "    a file handler (e.g. via builtin ``open`` function) or ``StringIO``.\n",
       "sep : str, default ','\n",
       "    Delimiter to use. If sep is None, the C engine cannot automatically detect\n",
       "    the separator, but the Python parsing engine can, meaning the latter will\n",
       "    be used and automatically detect the separator by Python's builtin sniffer\n",
       "    tool, ``csv.Sniffer``. In addition, separators longer than 1 character and\n",
       "    different from ``'\\s+'`` will be interpreted as regular expressions and\n",
       "    will also force the use of the Python parsing engine. Note that regex\n",
       "    delimiters are prone to ignoring quoted data. Regex example: ``'\\r\\t'``.\n",
       "delimiter : str, default ``None``\n",
       "    Alias for sep.\n",
       "header : int, list of int, default 'infer'\n",
       "    Row number(s) to use as the column names, and the start of the\n",
       "    data.  Default behavior is to infer the column names: if no names\n",
       "    are passed the behavior is identical to ``header=0`` and column\n",
       "    names are inferred from the first line of the file, if column\n",
       "    names are passed explicitly then the behavior is identical to\n",
       "    ``header=None``. Explicitly pass ``header=0`` to be able to\n",
       "    replace existing names. The header can be a list of integers that\n",
       "    specify row locations for a multi-index on the columns\n",
       "    e.g. [0,1,3]. Intervening rows that are not specified will be\n",
       "    skipped (e.g. 2 in this example is skipped). Note that this\n",
       "    parameter ignores commented lines and empty lines if\n",
       "    ``skip_blank_lines=True``, so ``header=0`` denotes the first line of\n",
       "    data rather than the first line of the file.\n",
       "names : array-like, optional\n",
       "    List of column names to use. If the file contains a header row,\n",
       "    then you should explicitly pass ``header=0`` to override the column names.\n",
       "    Duplicates in this list are not allowed.\n",
       "index_col : int, str, sequence of int / str, or False, default ``None``\n",
       "  Column(s) to use as the row labels of the ``DataFrame``, either given as\n",
       "  string name or column index. If a sequence of int / str is given, a\n",
       "  MultiIndex is used.\n",
       "\n",
       "  Note: ``index_col=False`` can be used to force pandas to *not* use the first\n",
       "  column as the index, e.g. when you have a malformed file with delimiters at\n",
       "  the end of each line.\n",
       "usecols : list-like or callable, optional\n",
       "    Return a subset of the columns. If list-like, all elements must either\n",
       "    be positional (i.e. integer indices into the document columns) or strings\n",
       "    that correspond to column names provided either by the user in `names` or\n",
       "    inferred from the document header row(s). For example, a valid list-like\n",
       "    `usecols` parameter would be ``[0, 1, 2]`` or ``['foo', 'bar', 'baz']``.\n",
       "    Element order is ignored, so ``usecols=[0, 1]`` is the same as ``[1, 0]``.\n",
       "    To instantiate a DataFrame from ``data`` with element order preserved use\n",
       "    ``pd.read_csv(data, usecols=['foo', 'bar'])[['foo', 'bar']]`` for columns\n",
       "    in ``['foo', 'bar']`` order or\n",
       "    ``pd.read_csv(data, usecols=['foo', 'bar'])[['bar', 'foo']]``\n",
       "    for ``['bar', 'foo']`` order.\n",
       "\n",
       "    If callable, the callable function will be evaluated against the column\n",
       "    names, returning names where the callable function evaluates to True. An\n",
       "    example of a valid callable argument would be ``lambda x: x.upper() in\n",
       "    ['AAA', 'BBB', 'DDD']``. Using this parameter results in much faster\n",
       "    parsing time and lower memory usage.\n",
       "squeeze : bool, default False\n",
       "    If the parsed data only contains one column then return a Series.\n",
       "prefix : str, optional\n",
       "    Prefix to add to column numbers when no header, e.g. 'X' for X0, X1, ...\n",
       "mangle_dupe_cols : bool, default True\n",
       "    Duplicate columns will be specified as 'X', 'X.1', ...'X.N', rather than\n",
       "    'X'...'X'. Passing in False will cause data to be overwritten if there\n",
       "    are duplicate names in the columns.\n",
       "dtype : Type name or dict of column -> type, optional\n",
       "    Data type for data or columns. E.g. {'a': np.float64, 'b': np.int32,\n",
       "    'c': 'Int64'}\n",
       "    Use `str` or `object` together with suitable `na_values` settings\n",
       "    to preserve and not interpret dtype.\n",
       "    If converters are specified, they will be applied INSTEAD\n",
       "    of dtype conversion.\n",
       "engine : {'c', 'python'}, optional\n",
       "    Parser engine to use. The C engine is faster while the python engine is\n",
       "    currently more feature-complete.\n",
       "converters : dict, optional\n",
       "    Dict of functions for converting values in certain columns. Keys can either\n",
       "    be integers or column labels.\n",
       "true_values : list, optional\n",
       "    Values to consider as True.\n",
       "false_values : list, optional\n",
       "    Values to consider as False.\n",
       "skipinitialspace : bool, default False\n",
       "    Skip spaces after delimiter.\n",
       "skiprows : list-like, int or callable, optional\n",
       "    Line numbers to skip (0-indexed) or number of lines to skip (int)\n",
       "    at the start of the file.\n",
       "\n",
       "    If callable, the callable function will be evaluated against the row\n",
       "    indices, returning True if the row should be skipped and False otherwise.\n",
       "    An example of a valid callable argument would be ``lambda x: x in [0, 2]``.\n",
       "skipfooter : int, default 0\n",
       "    Number of lines at bottom of file to skip (Unsupported with engine='c').\n",
       "nrows : int, optional\n",
       "    Number of rows of file to read. Useful for reading pieces of large files.\n",
       "na_values : scalar, str, list-like, or dict, optional\n",
       "    Additional strings to recognize as NA/NaN. If dict passed, specific\n",
       "    per-column NA values.  By default the following values are interpreted as\n",
       "    NaN: '', '#N/A', '#N/A N/A', '#NA', '-1.#IND', '-1.#QNAN', '-NaN', '-nan',\n",
       "    '1.#IND', '1.#QNAN', '<NA>', 'N/A', 'NA', 'NULL', 'NaN', 'n/a',\n",
       "    'nan', 'null'.\n",
       "keep_default_na : bool, default True\n",
       "    Whether or not to include the default NaN values when parsing the data.\n",
       "    Depending on whether `na_values` is passed in, the behavior is as follows:\n",
       "\n",
       "    * If `keep_default_na` is True, and `na_values` are specified, `na_values`\n",
       "      is appended to the default NaN values used for parsing.\n",
       "    * If `keep_default_na` is True, and `na_values` are not specified, only\n",
       "      the default NaN values are used for parsing.\n",
       "    * If `keep_default_na` is False, and `na_values` are specified, only\n",
       "      the NaN values specified `na_values` are used for parsing.\n",
       "    * If `keep_default_na` is False, and `na_values` are not specified, no\n",
       "      strings will be parsed as NaN.\n",
       "\n",
       "    Note that if `na_filter` is passed in as False, the `keep_default_na` and\n",
       "    `na_values` parameters will be ignored.\n",
       "na_filter : bool, default True\n",
       "    Detect missing value markers (empty strings and the value of na_values). In\n",
       "    data without any NAs, passing na_filter=False can improve the performance\n",
       "    of reading a large file.\n",
       "verbose : bool, default False\n",
       "    Indicate number of NA values placed in non-numeric columns.\n",
       "skip_blank_lines : bool, default True\n",
       "    If True, skip over blank lines rather than interpreting as NaN values.\n",
       "parse_dates : bool or list of int or names or list of lists or dict, default False\n",
       "    The behavior is as follows:\n",
       "\n",
       "    * boolean. If True -> try parsing the index.\n",
       "    * list of int or names. e.g. If [1, 2, 3] -> try parsing columns 1, 2, 3\n",
       "      each as a separate date column.\n",
       "    * list of lists. e.g.  If [[1, 3]] -> combine columns 1 and 3 and parse as\n",
       "      a single date column.\n",
       "    * dict, e.g. {'foo' : [1, 3]} -> parse columns 1, 3 as date and call\n",
       "      result 'foo'\n",
       "\n",
       "    If a column or index cannot be represented as an array of datetimes,\n",
       "    say because of an unparseable value or a mixture of timezones, the column\n",
       "    or index will be returned unaltered as an object data type. For\n",
       "    non-standard datetime parsing, use ``pd.to_datetime`` after\n",
       "    ``pd.read_csv``. To parse an index or column with a mixture of timezones,\n",
       "    specify ``date_parser`` to be a partially-applied\n",
       "    :func:`pandas.to_datetime` with ``utc=True``. See\n",
       "    :ref:`io.csv.mixed_timezones` for more.\n",
       "\n",
       "    Note: A fast-path exists for iso8601-formatted dates.\n",
       "infer_datetime_format : bool, default False\n",
       "    If True and `parse_dates` is enabled, pandas will attempt to infer the\n",
       "    format of the datetime strings in the columns, and if it can be inferred,\n",
       "    switch to a faster method of parsing them. In some cases this can increase\n",
       "    the parsing speed by 5-10x.\n",
       "keep_date_col : bool, default False\n",
       "    If True and `parse_dates` specifies combining multiple columns then\n",
       "    keep the original columns.\n",
       "date_parser : function, optional\n",
       "    Function to use for converting a sequence of string columns to an array of\n",
       "    datetime instances. The default uses ``dateutil.parser.parser`` to do the\n",
       "    conversion. Pandas will try to call `date_parser` in three different ways,\n",
       "    advancing to the next if an exception occurs: 1) Pass one or more arrays\n",
       "    (as defined by `parse_dates`) as arguments; 2) concatenate (row-wise) the\n",
       "    string values from the columns defined by `parse_dates` into a single array\n",
       "    and pass that; and 3) call `date_parser` once for each row using one or\n",
       "    more strings (corresponding to the columns defined by `parse_dates`) as\n",
       "    arguments.\n",
       "dayfirst : bool, default False\n",
       "    DD/MM format dates, international and European format.\n",
       "cache_dates : bool, default True\n",
       "    If True, use a cache of unique, converted dates to apply the datetime\n",
       "    conversion. May produce significant speed-up when parsing duplicate\n",
       "    date strings, especially ones with timezone offsets.\n",
       "\n",
       "    .. versionadded:: 0.25.0\n",
       "iterator : bool, default False\n",
       "    Return TextFileReader object for iteration or getting chunks with\n",
       "    ``get_chunk()``.\n",
       "chunksize : int, optional\n",
       "    Return TextFileReader object for iteration.\n",
       "    See the `IO Tools docs\n",
       "    <https://pandas.pydata.org/pandas-docs/stable/io.html#io-chunking>`_\n",
       "    for more information on ``iterator`` and ``chunksize``.\n",
       "compression : {'infer', 'gzip', 'bz2', 'zip', 'xz', None}, default 'infer'\n",
       "    For on-the-fly decompression of on-disk data. If 'infer' and\n",
       "    `filepath_or_buffer` is path-like, then detect compression from the\n",
       "    following extensions: '.gz', '.bz2', '.zip', or '.xz' (otherwise no\n",
       "    decompression). If using 'zip', the ZIP file must contain only one data\n",
       "    file to be read in. Set to None for no decompression.\n",
       "thousands : str, optional\n",
       "    Thousands separator.\n",
       "decimal : str, default '.'\n",
       "    Character to recognize as decimal point (e.g. use ',' for European data).\n",
       "lineterminator : str (length 1), optional\n",
       "    Character to break file into lines. Only valid with C parser.\n",
       "quotechar : str (length 1), optional\n",
       "    The character used to denote the start and end of a quoted item. Quoted\n",
       "    items can include the delimiter and it will be ignored.\n",
       "quoting : int or csv.QUOTE_* instance, default 0\n",
       "    Control field quoting behavior per ``csv.QUOTE_*`` constants. Use one of\n",
       "    QUOTE_MINIMAL (0), QUOTE_ALL (1), QUOTE_NONNUMERIC (2) or QUOTE_NONE (3).\n",
       "doublequote : bool, default ``True``\n",
       "   When quotechar is specified and quoting is not ``QUOTE_NONE``, indicate\n",
       "   whether or not to interpret two consecutive quotechar elements INSIDE a\n",
       "   field as a single ``quotechar`` element.\n",
       "escapechar : str (length 1), optional\n",
       "    One-character string used to escape other characters.\n",
       "comment : str, optional\n",
       "    Indicates remainder of line should not be parsed. If found at the beginning\n",
       "    of a line, the line will be ignored altogether. This parameter must be a\n",
       "    single character. Like empty lines (as long as ``skip_blank_lines=True``),\n",
       "    fully commented lines are ignored by the parameter `header` but not by\n",
       "    `skiprows`. For example, if ``comment='#'``, parsing\n",
       "    ``#empty\\na,b,c\\n1,2,3`` with ``header=0`` will result in 'a,b,c' being\n",
       "    treated as the header.\n",
       "encoding : str, optional\n",
       "    Encoding to use for UTF when reading/writing (ex. 'utf-8'). `List of Python\n",
       "    standard encodings\n",
       "    <https://docs.python.org/3/library/codecs.html#standard-encodings>`_ .\n",
       "dialect : str or csv.Dialect, optional\n",
       "    If provided, this parameter will override values (default or not) for the\n",
       "    following parameters: `delimiter`, `doublequote`, `escapechar`,\n",
       "    `skipinitialspace`, `quotechar`, and `quoting`. If it is necessary to\n",
       "    override values, a ParserWarning will be issued. See csv.Dialect\n",
       "    documentation for more details.\n",
       "error_bad_lines : bool, default True\n",
       "    Lines with too many fields (e.g. a csv line with too many commas) will by\n",
       "    default cause an exception to be raised, and no DataFrame will be returned.\n",
       "    If False, then these \"bad lines\" will dropped from the DataFrame that is\n",
       "    returned.\n",
       "warn_bad_lines : bool, default True\n",
       "    If error_bad_lines is False, and warn_bad_lines is True, a warning for each\n",
       "    \"bad line\" will be output.\n",
       "delim_whitespace : bool, default False\n",
       "    Specifies whether or not whitespace (e.g. ``' '`` or ``'    '``) will be\n",
       "    used as the sep. Equivalent to setting ``sep='\\s+'``. If this option\n",
       "    is set to True, nothing should be passed in for the ``delimiter``\n",
       "    parameter.\n",
       "low_memory : bool, default True\n",
       "    Internally process the file in chunks, resulting in lower memory use\n",
       "    while parsing, but possibly mixed type inference.  To ensure no mixed\n",
       "    types either set False, or specify the type with the `dtype` parameter.\n",
       "    Note that the entire file is read into a single DataFrame regardless,\n",
       "    use the `chunksize` or `iterator` parameter to return the data in chunks.\n",
       "    (Only valid with C parser).\n",
       "memory_map : bool, default False\n",
       "    If a filepath is provided for `filepath_or_buffer`, map the file object\n",
       "    directly onto memory and access the data directly from there. Using this\n",
       "    option can improve performance because there is no longer any I/O overhead.\n",
       "float_precision : str, optional\n",
       "    Specifies which converter the C engine should use for floating-point\n",
       "    values. The options are `None` for the ordinary converter,\n",
       "    `high` for the high-precision converter, and `round_trip` for the\n",
       "    round-trip converter.\n",
       "\n",
       "Returns\n",
       "-------\n",
       "DataFrame or TextParser\n",
       "    A comma-separated values (csv) file is returned as two-dimensional\n",
       "    data structure with labeled axes.\n",
       "\n",
       "See Also\n",
       "--------\n",
       "DataFrame.to_csv : Write DataFrame to a comma-separated values (csv) file.\n",
       "read_csv : Read a comma-separated values (csv) file into DataFrame.\n",
       "read_fwf : Read a table of fixed-width formatted lines into DataFrame.\n",
       "\n",
       "Examples\n",
       "--------\n",
       ">>> pd.read_csv('data.csv')  # doctest: +SKIP\n",
       "\u001b[1;31mFile:\u001b[0m      c:\\users\\samil.guser\\anaconda3\\envs\\py37\\lib\\site-packages\\pandas\\io\\parsers.py\n",
       "\u001b[1;31mType:\u001b[0m      function\n"
      ]
     },
     "metadata": {},
     "output_type": "display_data"
    }
   ],
   "source": [
    "df = pd.read_csv?"
   ]
  },
  {
   "cell_type": "code",
   "execution_count": 18,
   "metadata": {},
   "outputs": [
    {
     "data": {
      "text/html": [
       "<div>\n",
       "<style scoped>\n",
       "    .dataframe tbody tr th:only-of-type {\n",
       "        vertical-align: middle;\n",
       "    }\n",
       "\n",
       "    .dataframe tbody tr th {\n",
       "        vertical-align: top;\n",
       "    }\n",
       "\n",
       "    .dataframe thead th {\n",
       "        text-align: right;\n",
       "    }\n",
       "</style>\n",
       "<table border=\"1\" class=\"dataframe\">\n",
       "  <thead>\n",
       "    <tr style=\"text-align: right;\">\n",
       "      <th></th>\n",
       "      <th>0</th>\n",
       "      <th>1</th>\n",
       "    </tr>\n",
       "  </thead>\n",
       "  <tbody>\n",
       "    <tr>\n",
       "      <th>0</th>\n",
       "      <td>2017-04-02 00:00:00</td>\n",
       "      <td>1099.169125</td>\n",
       "    </tr>\n",
       "    <tr>\n",
       "      <th>1</th>\n",
       "      <td>2017-04-03 00:00:00</td>\n",
       "      <td>1141.813000</td>\n",
       "    </tr>\n",
       "    <tr>\n",
       "      <th>2</th>\n",
       "      <td>2017-04-04 00:00:00</td>\n",
       "      <td>1141.600363</td>\n",
       "    </tr>\n",
       "    <tr>\n",
       "      <th>3</th>\n",
       "      <td>2017-04-05 00:00:00</td>\n",
       "      <td>1133.079314</td>\n",
       "    </tr>\n",
       "    <tr>\n",
       "      <th>4</th>\n",
       "      <td>2017-04-06 00:00:00</td>\n",
       "      <td>1196.307937</td>\n",
       "    </tr>\n",
       "  </tbody>\n",
       "</table>\n",
       "</div>"
      ],
      "text/plain": [
       "                     0            1\n",
       "0  2017-04-02 00:00:00  1099.169125\n",
       "1  2017-04-03 00:00:00  1141.813000\n",
       "2  2017-04-04 00:00:00  1141.600363\n",
       "3  2017-04-05 00:00:00  1133.079314\n",
       "4  2017-04-06 00:00:00  1196.307937"
      ]
     },
     "execution_count": 18,
     "metadata": {},
     "output_type": "execute_result"
    }
   ],
   "source": [
    "df = pd.read_csv('data/btc-market-price.csv', header=None)\n",
    "df.head()"
   ]
  },
  {
   "cell_type": "code",
   "execution_count": 21,
   "metadata": {},
   "outputs": [
    {
     "data": {
      "text/html": [
       "<div>\n",
       "<style scoped>\n",
       "    .dataframe tbody tr th:only-of-type {\n",
       "        vertical-align: middle;\n",
       "    }\n",
       "\n",
       "    .dataframe tbody tr th {\n",
       "        vertical-align: top;\n",
       "    }\n",
       "\n",
       "    .dataframe thead th {\n",
       "        text-align: right;\n",
       "    }\n",
       "</style>\n",
       "<table border=\"1\" class=\"dataframe\">\n",
       "  <thead>\n",
       "    <tr style=\"text-align: right;\">\n",
       "      <th></th>\n",
       "      <th>Timestamp</th>\n",
       "      <th>Fiyat</th>\n",
       "    </tr>\n",
       "  </thead>\n",
       "  <tbody>\n",
       "    <tr>\n",
       "      <th>0</th>\n",
       "      <td>2017-04-02 00:00:00</td>\n",
       "      <td>1099.169125</td>\n",
       "    </tr>\n",
       "    <tr>\n",
       "      <th>1</th>\n",
       "      <td>2017-04-03 00:00:00</td>\n",
       "      <td>1141.813000</td>\n",
       "    </tr>\n",
       "    <tr>\n",
       "      <th>2</th>\n",
       "      <td>2017-04-04 00:00:00</td>\n",
       "      <td>1141.600363</td>\n",
       "    </tr>\n",
       "    <tr>\n",
       "      <th>3</th>\n",
       "      <td>2017-04-05 00:00:00</td>\n",
       "      <td>1133.079314</td>\n",
       "    </tr>\n",
       "    <tr>\n",
       "      <th>4</th>\n",
       "      <td>2017-04-06 00:00:00</td>\n",
       "      <td>1196.307937</td>\n",
       "    </tr>\n",
       "  </tbody>\n",
       "</table>\n",
       "</div>"
      ],
      "text/plain": [
       "             Timestamp        Fiyat\n",
       "0  2017-04-02 00:00:00  1099.169125\n",
       "1  2017-04-03 00:00:00  1141.813000\n",
       "2  2017-04-04 00:00:00  1141.600363\n",
       "3  2017-04-05 00:00:00  1133.079314\n",
       "4  2017-04-06 00:00:00  1196.307937"
      ]
     },
     "execution_count": 21,
     "metadata": {},
     "output_type": "execute_result"
    }
   ],
   "source": [
    "df.columns = [\"Timestamp\", \"Fiyat\"]\n",
    "df.head()"
   ]
  },
  {
   "cell_type": "code",
   "execution_count": 22,
   "metadata": {},
   "outputs": [
    {
     "data": {
      "text/plain": [
       "(365, 2)"
      ]
     },
     "execution_count": 22,
     "metadata": {},
     "output_type": "execute_result"
    }
   ],
   "source": [
    "df.shape"
   ]
  },
  {
   "cell_type": "code",
   "execution_count": 23,
   "metadata": {},
   "outputs": [
    {
     "name": "stdout",
     "output_type": "stream",
     "text": [
      "<class 'pandas.core.frame.DataFrame'>\n",
      "RangeIndex: 365 entries, 0 to 364\n",
      "Data columns (total 2 columns):\n",
      " #   Column     Non-Null Count  Dtype  \n",
      "---  ------     --------------  -----  \n",
      " 0   Timestamp  365 non-null    object \n",
      " 1   Fiyat      365 non-null    float64\n",
      "dtypes: float64(1), object(1)\n",
      "memory usage: 5.8+ KB\n"
     ]
    }
   ],
   "source": [
    "df.info()"
   ]
  },
  {
   "cell_type": "code",
   "execution_count": 24,
   "metadata": {},
   "outputs": [
    {
     "data": {
      "text/plain": [
       "Timestamp     object\n",
       "Fiyat        float64\n",
       "dtype: object"
      ]
     },
     "execution_count": 24,
     "metadata": {},
     "output_type": "execute_result"
    }
   ],
   "source": [
    "df.dtypes"
   ]
  },
  {
   "cell_type": "code",
   "execution_count": 29,
   "metadata": {},
   "outputs": [
    {
     "data": {
      "text/html": [
       "<div>\n",
       "<style scoped>\n",
       "    .dataframe tbody tr th:only-of-type {\n",
       "        vertical-align: middle;\n",
       "    }\n",
       "\n",
       "    .dataframe tbody tr th {\n",
       "        vertical-align: top;\n",
       "    }\n",
       "\n",
       "    .dataframe thead th {\n",
       "        text-align: right;\n",
       "    }\n",
       "</style>\n",
       "<table border=\"1\" class=\"dataframe\">\n",
       "  <thead>\n",
       "    <tr style=\"text-align: right;\">\n",
       "      <th></th>\n",
       "      <th>Timestamp</th>\n",
       "      <th>Fiyat</th>\n",
       "    </tr>\n",
       "  </thead>\n",
       "  <tbody>\n",
       "    <tr>\n",
       "      <th>0</th>\n",
       "      <td>2017-04-02</td>\n",
       "      <td>1099.169125</td>\n",
       "    </tr>\n",
       "    <tr>\n",
       "      <th>1</th>\n",
       "      <td>2017-04-03</td>\n",
       "      <td>1141.813000</td>\n",
       "    </tr>\n",
       "    <tr>\n",
       "      <th>2</th>\n",
       "      <td>2017-04-04</td>\n",
       "      <td>1141.600363</td>\n",
       "    </tr>\n",
       "    <tr>\n",
       "      <th>3</th>\n",
       "      <td>2017-04-05</td>\n",
       "      <td>1133.079314</td>\n",
       "    </tr>\n",
       "    <tr>\n",
       "      <th>4</th>\n",
       "      <td>2017-04-06</td>\n",
       "      <td>1196.307937</td>\n",
       "    </tr>\n",
       "  </tbody>\n",
       "</table>\n",
       "</div>"
      ],
      "text/plain": [
       "   Timestamp        Fiyat\n",
       "0 2017-04-02  1099.169125\n",
       "1 2017-04-03  1141.813000\n",
       "2 2017-04-04  1141.600363\n",
       "3 2017-04-05  1133.079314\n",
       "4 2017-04-06  1196.307937"
      ]
     },
     "execution_count": 29,
     "metadata": {},
     "output_type": "execute_result"
    }
   ],
   "source": [
    "df[\"Timestamp\"] = pd.to_datetime(df[\"Timestamp\"])\n",
    "df.head()"
   ]
  },
  {
   "cell_type": "code",
   "execution_count": 31,
   "metadata": {},
   "outputs": [],
   "source": [
    "df.set_index(\"Timestamp\", inplace=True)"
   ]
  },
  {
   "cell_type": "code",
   "execution_count": 32,
   "metadata": {},
   "outputs": [
    {
     "data": {
      "text/plain": [
       "Fiyat    1334.979038\n",
       "Name: 2017-04-29 00:00:00, dtype: float64"
      ]
     },
     "execution_count": 32,
     "metadata": {},
     "output_type": "execute_result"
    }
   ],
   "source": [
    "df.loc[\"2017-04-29\"]"
   ]
  },
  {
   "cell_type": "markdown",
   "metadata": {},
   "source": [
    "Bütün bu işlemleri ```read_csv``` fonksiyonu da yapabiliyor:"
   ]
  },
  {
   "cell_type": "code",
   "execution_count": 34,
   "metadata": {},
   "outputs": [
    {
     "data": {
      "text/html": [
       "<div>\n",
       "<style scoped>\n",
       "    .dataframe tbody tr th:only-of-type {\n",
       "        vertical-align: middle;\n",
       "    }\n",
       "\n",
       "    .dataframe tbody tr th {\n",
       "        vertical-align: top;\n",
       "    }\n",
       "\n",
       "    .dataframe thead th {\n",
       "        text-align: right;\n",
       "    }\n",
       "</style>\n",
       "<table border=\"1\" class=\"dataframe\">\n",
       "  <thead>\n",
       "    <tr style=\"text-align: right;\">\n",
       "      <th></th>\n",
       "      <th>Fiyat</th>\n",
       "    </tr>\n",
       "    <tr>\n",
       "      <th>Timestamp</th>\n",
       "      <th></th>\n",
       "    </tr>\n",
       "  </thead>\n",
       "  <tbody>\n",
       "    <tr>\n",
       "      <th>2017-04-02</th>\n",
       "      <td>1099.169125</td>\n",
       "    </tr>\n",
       "    <tr>\n",
       "      <th>2017-04-03</th>\n",
       "      <td>1141.813000</td>\n",
       "    </tr>\n",
       "    <tr>\n",
       "      <th>2017-04-04</th>\n",
       "      <td>1141.600363</td>\n",
       "    </tr>\n",
       "    <tr>\n",
       "      <th>2017-04-05</th>\n",
       "      <td>1133.079314</td>\n",
       "    </tr>\n",
       "    <tr>\n",
       "      <th>2017-04-06</th>\n",
       "      <td>1196.307937</td>\n",
       "    </tr>\n",
       "  </tbody>\n",
       "</table>\n",
       "</div>"
      ],
      "text/plain": [
       "                  Fiyat\n",
       "Timestamp              \n",
       "2017-04-02  1099.169125\n",
       "2017-04-03  1141.813000\n",
       "2017-04-04  1141.600363\n",
       "2017-04-05  1133.079314\n",
       "2017-04-06  1196.307937"
      ]
     },
     "execution_count": 34,
     "metadata": {},
     "output_type": "execute_result"
    }
   ],
   "source": [
    "df = pd.read_csv(\n",
    "    'data/btc-market-price.csv',\n",
    "    header=None,\n",
    "    names=['Timestamp', 'Fiyat'],\n",
    "    index_col=0,\n",
    "    parse_dates=True\n",
    ")\n",
    "df.head()"
   ]
  },
  {
   "cell_type": "markdown",
   "metadata": {},
   "source": [
    "### plot"
   ]
  },
  {
   "cell_type": "code",
   "execution_count": 49,
   "metadata": {},
   "outputs": [
    {
     "data": {
      "text/plain": [
       "<AxesSubplot:xlabel='Timestamp'>"
      ]
     },
     "execution_count": 49,
     "metadata": {},
     "output_type": "execute_result"
    },
    {
     "data": {
      "image/png": "[encoded data removed]",
      "text/plain": [
       "<Figure size 432x288 with 1 Axes>"
      ]
     },
     "metadata": {
      "needs_background": "light"
     },
     "output_type": "display_data"
    }
   ],
   "source": [
    "df.plot()"
   ]
  },
  {
   "cell_type": "code",
   "execution_count": 36,
   "metadata": {},
   "outputs": [
    {
     "data": {
      "text/plain": [
       "[<matplotlib.lines.Line2D at 0x1fd442031c8>]"
      ]
     },
     "execution_count": 36,
     "metadata": {},
     "output_type": "execute_result"
    },
    {
     "data": {
      "image/png": "[encoded data removed]",
      "text/plain": [
       "<Figure size 432x288 with 1 Axes>"
      ]
     },
     "metadata": {
      "needs_background": "light"
     },
     "output_type": "display_data"
    }
   ],
   "source": [
    "plt.plot(df.index, df[\"Fiyat\"])"
   ]
  },
  {
   "cell_type": "markdown",
   "metadata": {},
   "source": [
    "## 2. bir örnek"
   ]
  },
  {
   "cell_type": "code",
   "execution_count": 50,
   "metadata": {},
   "outputs": [
    {
     "data": {
      "text/html": [
       "<div>\n",
       "<style scoped>\n",
       "    .dataframe tbody tr th:only-of-type {\n",
       "        vertical-align: middle;\n",
       "    }\n",
       "\n",
       "    .dataframe tbody tr th {\n",
       "        vertical-align: top;\n",
       "    }\n",
       "\n",
       "    .dataframe thead th {\n",
       "        text-align: right;\n",
       "    }\n",
       "</style>\n",
       "<table border=\"1\" class=\"dataframe\">\n",
       "  <thead>\n",
       "    <tr style=\"text-align: right;\">\n",
       "      <th></th>\n",
       "      <th>UnixTimeStamp</th>\n",
       "      <th>Value</th>\n",
       "    </tr>\n",
       "    <tr>\n",
       "      <th>Date(UTC)</th>\n",
       "      <th></th>\n",
       "      <th></th>\n",
       "    </tr>\n",
       "  </thead>\n",
       "  <tbody>\n",
       "    <tr>\n",
       "      <th>2017-04-02</th>\n",
       "      <td>1491091200</td>\n",
       "      <td>48.55</td>\n",
       "    </tr>\n",
       "    <tr>\n",
       "      <th>2017-04-03</th>\n",
       "      <td>1491177600</td>\n",
       "      <td>44.13</td>\n",
       "    </tr>\n",
       "    <tr>\n",
       "      <th>2017-04-04</th>\n",
       "      <td>1491264000</td>\n",
       "      <td>44.43</td>\n",
       "    </tr>\n",
       "    <tr>\n",
       "      <th>2017-04-05</th>\n",
       "      <td>1491350400</td>\n",
       "      <td>44.90</td>\n",
       "    </tr>\n",
       "    <tr>\n",
       "      <th>2017-04-06</th>\n",
       "      <td>1491436800</td>\n",
       "      <td>43.23</td>\n",
       "    </tr>\n",
       "  </tbody>\n",
       "</table>\n",
       "</div>"
      ],
      "text/plain": [
       "            UnixTimeStamp  Value\n",
       "Date(UTC)                       \n",
       "2017-04-02     1491091200  48.55\n",
       "2017-04-03     1491177600  44.13\n",
       "2017-04-04     1491264000  44.43\n",
       "2017-04-05     1491350400  44.90\n",
       "2017-04-06     1491436800  43.23"
      ]
     },
     "execution_count": 50,
     "metadata": {},
     "output_type": "execute_result"
    }
   ],
   "source": [
    "eth = pd.read_csv('data/eth-price.csv', parse_dates=[0], index_col=0)\n",
    "eth.head()"
   ]
  },
  {
   "cell_type": "code",
   "execution_count": 51,
   "metadata": {},
   "outputs": [
    {
     "data": {
      "text/plain": [
       "Date(UTC)\n",
       "2017-04-02   1970-01-01 00:00:01.491091200\n",
       "2017-04-03   1970-01-01 00:00:01.491177600\n",
       "2017-04-04   1970-01-01 00:00:01.491264000\n",
       "2017-04-05   1970-01-01 00:00:01.491350400\n",
       "2017-04-06   1970-01-01 00:00:01.491436800\n",
       "Name: UnixTimeStamp, dtype: datetime64[ns]"
      ]
     },
     "execution_count": 51,
     "metadata": {},
     "output_type": "execute_result"
    }
   ],
   "source": [
    "pd.to_datetime(eth['UnixTimeStamp']).head()"
   ]
  },
  {
   "cell_type": "code",
   "execution_count": 54,
   "metadata": {},
   "outputs": [
    {
     "data": {
      "text/html": [
       "<div>\n",
       "<style scoped>\n",
       "    .dataframe tbody tr th:only-of-type {\n",
       "        vertical-align: middle;\n",
       "    }\n",
       "\n",
       "    .dataframe tbody tr th {\n",
       "        vertical-align: top;\n",
       "    }\n",
       "\n",
       "    .dataframe thead th {\n",
       "        text-align: right;\n",
       "    }\n",
       "</style>\n",
       "<table border=\"1\" class=\"dataframe\">\n",
       "  <thead>\n",
       "    <tr style=\"text-align: right;\">\n",
       "      <th></th>\n",
       "      <th>Bitcoin</th>\n",
       "      <th>Ether</th>\n",
       "    </tr>\n",
       "    <tr>\n",
       "      <th>Timestamp</th>\n",
       "      <th></th>\n",
       "      <th></th>\n",
       "    </tr>\n",
       "  </thead>\n",
       "  <tbody>\n",
       "    <tr>\n",
       "      <th>2017-04-02</th>\n",
       "      <td>1099.169125</td>\n",
       "      <td>48.55</td>\n",
       "    </tr>\n",
       "    <tr>\n",
       "      <th>2017-04-03</th>\n",
       "      <td>1141.813000</td>\n",
       "      <td>44.13</td>\n",
       "    </tr>\n",
       "    <tr>\n",
       "      <th>2017-04-04</th>\n",
       "      <td>1141.600363</td>\n",
       "      <td>44.43</td>\n",
       "    </tr>\n",
       "    <tr>\n",
       "      <th>2017-04-05</th>\n",
       "      <td>1133.079314</td>\n",
       "      <td>44.90</td>\n",
       "    </tr>\n",
       "    <tr>\n",
       "      <th>2017-04-06</th>\n",
       "      <td>1196.307937</td>\n",
       "      <td>43.23</td>\n",
       "    </tr>\n",
       "  </tbody>\n",
       "</table>\n",
       "</div>"
      ],
      "text/plain": [
       "                Bitcoin  Ether\n",
       "Timestamp                     \n",
       "2017-04-02  1099.169125  48.55\n",
       "2017-04-03  1141.813000  44.13\n",
       "2017-04-04  1141.600363  44.43\n",
       "2017-04-05  1133.079314  44.90\n",
       "2017-04-06  1196.307937  43.23"
      ]
     },
     "execution_count": 54,
     "metadata": {},
     "output_type": "execute_result"
    }
   ],
   "source": [
    "prices = pd.DataFrame(index=df.index)\n",
    "prices['Bitcoin'] = df['Fiyat']\n",
    "prices['Ether'] = eth['Value']\n",
    "prices.head()"
   ]
  },
  {
   "cell_type": "code",
   "execution_count": 55,
   "metadata": {
    "scrolled": true
   },
   "outputs": [
    {
     "data": {
      "text/plain": [
       "<AxesSubplot:xlabel='Timestamp'>"
      ]
     },
     "execution_count": 55,
     "metadata": {},
     "output_type": "execute_result"
    },
    {
     "data": {
      "image/png": "[encoded data removed]",
      "text/plain": [
       "<Figure size 432x288 with 1 Axes>"
      ]
     },
     "metadata": {
      "needs_background": "light"
     },
     "output_type": "display_data"
    }
   ],
   "source": [
    "prices.plot()"
   ]
  },
  {
   "cell_type": "markdown",
   "metadata": {},
   "source": [
    "kayıp dataya dikkat"
   ]
  },
  {
   "cell_type": "code",
   "execution_count": 56,
   "metadata": {},
   "outputs": [
    {
     "data": {
      "text/plain": [
       "<AxesSubplot:xlabel='Timestamp'>"
      ]
     },
     "execution_count": 56,
     "metadata": {},
     "output_type": "execute_result"
    },
    {
     "data": {
      "image/png": "[encoded data removed]",
      "text/plain": [
       "<Figure size 432x288 with 1 Axes>"
      ]
     },
     "metadata": {
      "needs_background": "light"
     },
     "output_type": "display_data"
    }
   ],
   "source": [
    "prices.loc['2017-12-01':'2018-01-01'].plot()"
   ]
  },
  {
   "cell_type": "markdown",
   "metadata": {},
   "source": [
    "## Referanslar\n",
    "[1] [freecodecamp-intro-to-pandas](https://github.com/ine-rmotr-curriculum/freecodecamp-intro-to-pandas)  \n",
    "[2] [Data Analysis with Python - Full Course for Beginners (Numpy, Pandas, Matplotlib, Seaborn)](https://youtu.be/r-uOLxNrNk8)"
   ]
  }
 ],
 "metadata": {
  "kernelspec": {
   "display_name": "Python 3",
   "language": "python",
   "name": "python3"
  },
  "language_info": {
   "codemirror_mode": {
    "name": "ipython",
    "version": 3
   },
   "file_extension": ".py",
   "mimetype": "text/x-python",
   "name": "python",
   "nbconvert_exporter": "python",
   "pygments_lexer": "ipython3",
   "version": "3.7.7"
  }
 },
 "nbformat": 4,
 "nbformat_minor": 4
}
